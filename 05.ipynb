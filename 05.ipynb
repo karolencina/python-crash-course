{
 "cells": [
  {
   "cell_type": "markdown",
   "source": [
    "5.1. Conditional Tests: Write a series of conditional tests. Print a statement describing each test and your prediction for the results of each test.\n",
    "- Have at least 5 tests evaluate to `True`"
   ],
   "metadata": {
    "collapsed": false
   },
   "id": "34d77ee3d63b76ee"
  },
  {
   "cell_type": "code",
   "execution_count": 22,
   "id": "initial_id",
   "metadata": {
    "collapsed": true,
    "ExecuteTime": {
     "end_time": "2024-03-14T16:49:56.412617Z",
     "start_time": "2024-03-14T16:49:56.405748Z"
    }
   },
   "outputs": [
    {
     "name": "stdout",
     "output_type": "stream",
     "text": [
      "Number: 8\n",
      "Test 1: True\n",
      "Test 2: True\n",
      "Test 3: True\n",
      "Test 4: True\n",
      "Test 5: True\n"
     ]
    }
   ],
   "source": [
    "num = 8\n",
    "\n",
    "print(f\"Number: {num}\")\n",
    "\n",
    "print(f\"Test 1: {num >= 2}\")\n",
    "print(f\"Test 2: {num == 2 or num == 8}\")\n",
    "print(f\"Test 3: {(num < 10) and (num > 5)}\")\n",
    "print(f\"Test 4: {(num != 9) and (num > 7)}\")\n",
    "print(f\"Test 5: {not num == False}\")\n",
    "\n"
   ]
  },
  {
   "cell_type": "markdown",
   "source": [
    "- Have another 5 tests evaluate to `False`."
   ],
   "metadata": {
    "collapsed": false
   },
   "id": "72d4990c40ff6c6f"
  },
  {
   "cell_type": "code",
   "execution_count": 23,
   "outputs": [
    {
     "name": "stdout",
     "output_type": "stream",
     "text": [
      "Number: 8\n",
      "Test 1: False\n",
      "Test 2: False\n",
      "Test 3: False\n",
      "Test 4: False\n",
      "Test 5: False\n"
     ]
    }
   ],
   "source": [
    "num = 8\n",
    "\n",
    "print(f\"Number: {num}\")\n",
    "\n",
    "print(f\"Test 1: {num != 8}\")\n",
    "print(f\"Test 2: {num > 9 or num < 7}\")\n",
    "print(f\"Test 3: {4 < num <= 7}\")\n",
    "print(f\"Test 4: {not num}\")\n",
    "print(f\"Test 5: {(num > 8) and (num < 8)}\")"
   ],
   "metadata": {
    "collapsed": false,
    "ExecuteTime": {
     "end_time": "2024-03-14T16:49:56.413823Z",
     "start_time": "2024-03-14T16:49:56.410800Z"
    }
   },
   "id": "b2394b5c82c6bb48"
  }
 ],
 "metadata": {
  "kernelspec": {
   "display_name": "Python 3",
   "language": "python",
   "name": "python3"
  },
  "language_info": {
   "codemirror_mode": {
    "name": "ipython",
    "version": 2
   },
   "file_extension": ".py",
   "mimetype": "text/x-python",
   "name": "python",
   "nbconvert_exporter": "python",
   "pygments_lexer": "ipython2",
   "version": "2.7.6"
  }
 },
 "nbformat": 4,
 "nbformat_minor": 5
}
