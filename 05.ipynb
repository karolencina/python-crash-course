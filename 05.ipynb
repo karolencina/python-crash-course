{
 "cells": [
  {
   "cell_type": "markdown",
   "source": [
    "5.1. Conditional Tests: Write a series of conditional tests. Print a statement describing each test and your prediction for the results of each test.\n",
    "- Have at least 5 tests evaluate to `True`"
   ],
   "metadata": {
    "collapsed": false
   },
   "id": "34d77ee3d63b76ee"
  },
  {
   "cell_type": "code",
   "execution_count": null,
   "id": "initial_id",
   "metadata": {
    "collapsed": true
   },
   "outputs": [],
   "source": [
    "num = 8\n",
    "\n",
    "print(f\"Number: {num}\")\n",
    "\n",
    "print(f\"Test 1: {num >= 2}\")\n",
    "print(f\"Test 2: {num == 2 or num == 8}\")\n",
    "print(f\"Test 3: {(num < 10) and (num > 5)}\")\n",
    "print(f\"Test 4: {(num != 9) and (num > 7)}\")\n",
    "print(f\"Test 5: {not num == False}\")\n",
    "\n"
   ]
  },
  {
   "cell_type": "markdown",
   "source": [
    "- Have another 5 tests evaluate to `False`."
   ],
   "metadata": {
    "collapsed": false
   },
   "id": "72d4990c40ff6c6f"
  },
  {
   "cell_type": "code",
   "execution_count": null,
   "outputs": [],
   "source": [
    "num = 8\n",
    "\n",
    "print(f\"Number: {num}\")\n",
    "\n",
    "print(f\"Test 1: {num != 8}\")\n",
    "print(f\"Test 2: {num > 9 or num < 7}\")\n",
    "print(f\"Test 3: {4 < num <= 7}\")\n",
    "print(f\"Test 4: {not num}\")\n",
    "print(f\"Test 5: {(num > 8) and (num < 8)}\")"
   ],
   "metadata": {
    "collapsed": false
   },
   "id": "b2394b5c82c6bb48"
  },
  {
   "cell_type": "markdown",
   "source": [
    "5.2. More conditional tests: You don't have tp limit the number of tests you create to 10. If you want to try more comparisons, write more tests. Have at least one `True` and one `False` result for each of the following:\n",
    "- Test for equality and inequality with strings\n",
    "- Test using the lower() method\n",
    "- Test whether an item is or is not in a list"
   ],
   "metadata": {
    "collapsed": false
   },
   "id": "1dbe767ebeec6be4"
  },
  {
   "cell_type": "code",
   "execution_count": null,
   "outputs": [],
   "source": [
    "word = \"Hello\"\n",
    "\n",
    "print(f\"Test 1: {word == 'hello'}\")\n",
    "print(f\"Test 2: {len(word) == len('green')}\")\n",
    "print(f\"Test 3: {word.lower() == 'hello'}\")\n",
    "\n",
    "colours = ['red', 'green', 'blue']\n",
    "\n",
    "print(f\"Test 4: {'blue' in colours}\")\n",
    "print(f\"Test 4: {'cyan' in colours}\")\n",
    "print(f\"Test 4: {'magenta' in colours.append('magenta')}\")"
   ],
   "metadata": {
    "collapsed": false
   },
   "id": "c45455abc38b7122"
  },
  {
   "cell_type": "markdown",
   "source": [
    "5.3. Alien Colors #1: Imagine an alien was just shot down in a game. Create a variable called `alien_color` and assign it a value of `'green'`, `'yellow'`, or `'red'`.\n",
    "- Write an `if` statement to test whether the alien's color is green. If it is, print a message that the player just earned 5 points.\n",
    "- Write one version of this program that passes the `if` test and another that fails. (The version that fails will have no output.)"
   ],
   "metadata": {
    "collapsed": false
   },
   "id": "52d49c748ff9312b"
  },
  {
   "cell_type": "code",
   "execution_count": 3,
   "outputs": [
    {
     "name": "stdout",
     "output_type": "stream",
     "text": [
      "You just earned 5 points.\n"
     ]
    }
   ],
   "source": [
    "def check_if_alien_colour_is_green(alien_color):\n",
    "    if alien_color == \"green\":\n",
    "        print(\"You just earned 5 points.\")\n",
    "\n",
    "alien_color = \"green\"\n",
    "\n",
    "check_if_alien_colour_is_green(alien_color)\n",
    "    \n",
    "alien_color = \"red\"\n",
    "\n",
    "check_if_alien_colour_is_green(alien_color)"
   ],
   "metadata": {
    "collapsed": false,
    "ExecuteTime": {
     "end_time": "2024-03-22T11:39:01.235666Z",
     "start_time": "2024-03-22T11:39:01.230400Z"
    }
   },
   "id": "8061ca1d45552487"
  },
  {
   "cell_type": "markdown",
   "source": [
    "5.4. Alien Colors #2: Choose a color for an alien as you did in the previous exercise, and write an `if-else` chain.\n",
    "- If the alien's color is green, print a statement that the player just earned 5 points for shooting the alien.\n",
    "- If the alien's color isn't green, print a statement that the player just earned 10 points.\n",
    "- Write one version of this program that runs the `if` block and another that runs the `else` block."
   ],
   "metadata": {
    "collapsed": false
   },
   "id": "cef55b518bbea7e0"
  },
  {
   "cell_type": "code",
   "execution_count": 5,
   "outputs": [
    {
     "name": "stdout",
     "output_type": "stream",
     "text": [
      "You just earned 5 points.\n",
      "You just earned 10 points.\n"
     ]
    }
   ],
   "source": [
    "def check_alien_colour(alien_color):\n",
    "    if alien_color == \"green\":\n",
    "        print(\"You just earned 5 points.\")\n",
    "    else:\n",
    "        print(\"You just earned 10 points.\")\n",
    "        \n",
    "check_alien_colour(alien_color=\"green\")\n",
    "check_alien_colour(alien_color=\"red\")"
   ],
   "metadata": {
    "collapsed": false,
    "ExecuteTime": {
     "end_time": "2024-03-22T11:43:51.504992Z",
     "start_time": "2024-03-22T11:43:51.498844Z"
    }
   },
   "id": "97411cf1e74362a5"
  },
  {
   "cell_type": "markdown",
   "source": [
    "5.5. Alien Colors #3: Turn your `if-else` chain from the previous exercise into an `if-elif-else` chain.\n",
    "- If the alien is green, print a message that the player earned 5 points.\n",
    "- If the alien is yellow, print a message that the player earned 10 points.\n",
    "- If the alien is red, print a message that the player earned 15 points.\n",
    "- Write three versions of this program, making sure each message is printed for the appropriate color alien."
   ],
   "metadata": {
    "collapsed": false
   },
   "id": "6711cb657d44ac91"
  },
  {
   "cell_type": "code",
   "execution_count": 6,
   "outputs": [
    {
     "name": "stdout",
     "output_type": "stream",
     "text": [
      "You just earned 5 points.\n",
      "You just earned 10 points\n",
      "You just earned 15 points.\n"
     ]
    }
   ],
   "source": [
    "def check_alien_colour(alien_color):\n",
    "    if alien_color == \"green\":\n",
    "        print(\"You just earned 5 points.\")\n",
    "    elif alien_color == \"yellow\":\n",
    "        print(\"You just earned 10 points\")\n",
    "    elif alien_color == \"red\":\n",
    "        print(\"You just earned 15 points.\")\n",
    "        \n",
    "check_alien_colour(\"green\")\n",
    "check_alien_colour(\"yellow\")\n",
    "check_alien_colour(\"red\")"
   ],
   "metadata": {
    "collapsed": false,
    "ExecuteTime": {
     "end_time": "2024-03-22T11:46:00.376296Z",
     "start_time": "2024-03-22T11:46:00.371506Z"
    }
   },
   "id": "8b58e31f76ec5d2b"
  },
  {
   "cell_type": "markdown",
   "source": [
    "5.6. Stages of Life: Write an `if-elif-else` chain that determines a person's stage of life. Set a value for the variable `age`, and then:\n",
    "- If the person is less than 2 years old, print a message that the person is a baby.\n",
    "- If the person is at least 2 years old but less than 4, print a message that the person is a toddler.\n",
    "- If the person is at least 4 years old but less than 13, print a message that the person is a kid.\n",
    "- If the person is at least 13 years old but less than 20, print a message that the person is a teenager.\n",
    "- If the person is at least 20 years old but less than 65, print a message that the person is an adult.\n",
    "- If the person is age 65 or older, print a message that the person is an elder."
   ],
   "metadata": {
    "collapsed": false
   },
   "id": "788b4334403769af"
  },
  {
   "cell_type": "markdown",
   "source": [],
   "metadata": {
    "collapsed": false
   },
   "id": "80095cbc5b318c12"
  },
  {
   "cell_type": "code",
   "execution_count": 7,
   "outputs": [
    {
     "name": "stdout",
     "output_type": "stream",
     "text": [
      "You're a toddler\n"
     ]
    }
   ],
   "source": [
    "age = 3\n",
    "\n",
    "if age <= 2:\n",
    "    print(\"You're a baby\")\n",
    "elif 2 <= age <= 4:\n",
    "    print(\"You're a toddler\")\n",
    "elif 4 <= age <= 13:\n",
    "    print(\"You're a kid\")\n",
    "elif 13 <= age <= 20:\n",
    "    print(\"You're a teen\")\n",
    "elif 20 <= age <= 65:\n",
    "    print(\"You're an adult\")\n",
    "else:\n",
    "    print(\"You're an elder\")\n",
    "    "
   ],
   "metadata": {
    "collapsed": false,
    "ExecuteTime": {
     "end_time": "2024-03-22T11:49:27.291779Z",
     "start_time": "2024-03-22T11:49:27.288611Z"
    }
   },
   "id": "781d44a4987b0c6b"
  },
  {
   "cell_type": "markdown",
   "source": [
    "5.7. Favorite Fruit: Make a list of your favorite fruits, and then write a series of independent `if` statements that check for certain fruits in your list.\n",
    "- Make a list of your three favorite fruits and call it `favorite_fruits`.\n",
    "- Write five `if` statements. Each should check whether a certain kind of fruit is in your list. If the fruit is in your list, the `if` block should print a statement, such as \"You really like bananas!\""
   ],
   "metadata": {
    "collapsed": false
   },
   "id": "2686a7616d6b2c38"
  },
  {
   "cell_type": "code",
   "execution_count": 12,
   "outputs": [
    {
     "name": "stdout",
     "output_type": "stream",
     "text": [
      "You guessed that it was banana correctly.\n",
      "You guessed that it was kiwi correctly.\n",
      "You didn't guess anything. My favourite fruits are dragon fruit, passion fruit, watermelon, banana, kiwi.\n"
     ]
    }
   ],
   "source": [
    "def make_three_guesses(guess1, guess2, guess3, list_name):\n",
    "    if guess1 in list_name:\n",
    "        print(f\"You guessed that it was {guess1} correctly.\")\n",
    "    if guess2 in list_name:\n",
    "        print(f\"You guessed that it was {guess2} correctly.\")\n",
    "    if guess3 in list_name:\n",
    "        print(f\"You guessed that it was {guess3} correctly.\")\n",
    "    else:\n",
    "        print(f\"You didn't guess anything. My favourite fruits are {', '.join(list_name)}.\")\n",
    "        \n",
    "fav_fruits = ['dragon fruit', 'passion fruit', 'watermelon', 'banana', 'kiwi']\n",
    "\n",
    "make_three_guesses('banana', 'apple', 'kiwi', fav_fruits)\n",
    "make_three_guesses('apple', 'grapes', 'raspberries', fav_fruits)\n",
    "    \n",
    "    "
   ],
   "metadata": {
    "collapsed": false,
    "ExecuteTime": {
     "end_time": "2024-03-22T12:01:19.912951Z",
     "start_time": "2024-03-22T12:01:19.908076Z"
    }
   },
   "id": "1ba64a66a98f9550"
  },
  {
   "cell_type": "markdown",
   "source": [],
   "metadata": {
    "collapsed": false
   },
   "id": "4fb024c435b0cdf3"
  }
 ],
 "metadata": {
  "kernelspec": {
   "display_name": "Python 3",
   "language": "python",
   "name": "python3"
  },
  "language_info": {
   "codemirror_mode": {
    "name": "ipython",
    "version": 2
   },
   "file_extension": ".py",
   "mimetype": "text/x-python",
   "name": "python",
   "nbconvert_exporter": "python",
   "pygments_lexer": "ipython2",
   "version": "2.7.6"
  }
 },
 "nbformat": 4,
 "nbformat_minor": 5
}
