{
 "cells": [
  {
   "cell_type": "markdown",
   "source": [
    "5.1. Conditional Tests: Write a series of conditional tests. Print a statement describing each test and your prediction for the results of each test.\n",
    "- Have at least 5 tests evaluate to `True`"
   ],
   "metadata": {
    "collapsed": false
   },
   "id": "34d77ee3d63b76ee"
  },
  {
   "cell_type": "code",
   "execution_count": null,
   "id": "initial_id",
   "metadata": {
    "collapsed": true
   },
   "outputs": [],
   "source": [
    "num = 8\n",
    "\n",
    "print(f\"Number: {num}\")\n",
    "\n",
    "print(f\"Test 1: {num >= 2}\")\n",
    "print(f\"Test 2: {num == 2 or num == 8}\")\n",
    "print(f\"Test 3: {(num < 10) and (num > 5)}\")\n",
    "print(f\"Test 4: {(num != 9) and (num > 7)}\")\n",
    "print(f\"Test 5: {not num == False}\")\n",
    "\n"
   ]
  },
  {
   "cell_type": "markdown",
   "source": [
    "- Have another 5 tests evaluate to `False`."
   ],
   "metadata": {
    "collapsed": false
   },
   "id": "72d4990c40ff6c6f"
  },
  {
   "cell_type": "code",
   "execution_count": null,
   "outputs": [],
   "source": [
    "num = 8\n",
    "\n",
    "print(f\"Number: {num}\")\n",
    "\n",
    "print(f\"Test 1: {num != 8}\")\n",
    "print(f\"Test 2: {num > 9 or num < 7}\")\n",
    "print(f\"Test 3: {4 < num <= 7}\")\n",
    "print(f\"Test 4: {not num}\")\n",
    "print(f\"Test 5: {(num > 8) and (num < 8)}\")"
   ],
   "metadata": {
    "collapsed": false
   },
   "id": "b2394b5c82c6bb48"
  },
  {
   "cell_type": "markdown",
   "source": [
    "5.2. More conditional tests: You don't have tp limit the number of tests you create to 10. If you want to try more comparisons, write more tests. Have at least one `True` and one `False` result for each of the following:\n",
    "- Test for equality and inequality with strings\n",
    "- Test using the lower() method\n",
    "- Test whether an item is or is not in a list"
   ],
   "metadata": {
    "collapsed": false
   },
   "id": "1dbe767ebeec6be4"
  },
  {
   "cell_type": "code",
   "execution_count": null,
   "outputs": [],
   "source": [
    "word = \"Hello\"\n",
    "\n",
    "print(f\"Test 1: {word == 'hello'}\")\n",
    "print(f\"Test 2: {len(word) == len('green')}\")\n",
    "print(f\"Test 3: {word.lower() == 'hello'}\")\n",
    "\n",
    "colours = ['red', 'green', 'blue']\n",
    "\n",
    "print(f\"Test 4: {'blue' in colours}\")\n",
    "print(f\"Test 4: {'cyan' in colours}\")\n",
    "print(f\"Test 4: {'magenta' in colours.append('magenta')}\")"
   ],
   "metadata": {
    "collapsed": false
   },
   "id": "c45455abc38b7122"
  }
 ],
 "metadata": {
  "kernelspec": {
   "display_name": "Python 3",
   "language": "python",
   "name": "python3"
  },
  "language_info": {
   "codemirror_mode": {
    "name": "ipython",
    "version": 2
   },
   "file_extension": ".py",
   "mimetype": "text/x-python",
   "name": "python",
   "nbconvert_exporter": "python",
   "pygments_lexer": "ipython2",
   "version": "2.7.6"
  }
 },
 "nbformat": 4,
 "nbformat_minor": 5
}
