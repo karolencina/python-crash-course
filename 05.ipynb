{
 "cells": [
  {
   "cell_type": "markdown",
   "source": [
    "5.1. Conditional Tests: Write a series of conditional tests. Print a statement describing each test and your prediction for the results of each test.\n",
    "- Have at least 5 tests evaluate to `True`"
   ],
   "metadata": {
    "collapsed": false
   },
   "id": "34d77ee3d63b76ee"
  },
  {
   "cell_type": "code",
   "execution_count": null,
   "id": "initial_id",
   "metadata": {
    "collapsed": true
   },
   "outputs": [],
   "source": [
    "num = 8\n",
    "\n",
    "print(f\"Number: {num}\")\n",
    "\n",
    "print(f\"Test 1: {num >= 2}\")\n",
    "print(f\"Test 2: {num == 2 or num == 8}\")\n",
    "print(f\"Test 3: {(num < 10) and (num > 5)}\")\n",
    "print(f\"Test 4: {(num != 9) and (num > 7)}\")\n",
    "print(f\"Test 5: {not num == False}\")\n",
    "\n"
   ]
  },
  {
   "cell_type": "markdown",
   "source": [
    "- Have another 5 tests evaluate to `False`."
   ],
   "metadata": {
    "collapsed": false
   },
   "id": "72d4990c40ff6c6f"
  },
  {
   "cell_type": "code",
   "execution_count": null,
   "outputs": [],
   "source": [
    "num = 8\n",
    "\n",
    "print(f\"Number: {num}\")\n",
    "\n",
    "print(f\"Test 1: {num != 8}\")\n",
    "print(f\"Test 2: {num > 9 or num < 7}\")\n",
    "print(f\"Test 3: {4 < num <= 7}\")\n",
    "print(f\"Test 4: {not num}\")\n",
    "print(f\"Test 5: {(num > 8) and (num < 8)}\")"
   ],
   "metadata": {
    "collapsed": false
   },
   "id": "b2394b5c82c6bb48"
  },
  {
   "cell_type": "markdown",
   "source": [
    "5.2. More conditional tests: You don't have tp limit the number of tests you create to 10. If you want to try more comparisons, write more tests. Have at least one `True` and one `False` result for each of the following:\n",
    "- Test for equality and inequality with strings\n",
    "- Test using the lower() method\n",
    "- Test whether an item is or is not in a list"
   ],
   "metadata": {
    "collapsed": false
   },
   "id": "1dbe767ebeec6be4"
  },
  {
   "cell_type": "code",
   "execution_count": null,
   "outputs": [],
   "source": [
    "word = \"Hello\"\n",
    "\n",
    "print(f\"Test 1: {word == 'hello'}\")\n",
    "print(f\"Test 2: {len(word) == len('green')}\")\n",
    "print(f\"Test 3: {word.lower() == 'hello'}\")\n",
    "\n",
    "colours = ['red', 'green', 'blue']\n",
    "\n",
    "print(f\"Test 4: {'blue' in colours}\")\n",
    "print(f\"Test 4: {'cyan' in colours}\")\n",
    "print(f\"Test 4: {'magenta' in colours.append('magenta')}\")"
   ],
   "metadata": {
    "collapsed": false
   },
   "id": "c45455abc38b7122"
  },
  {
   "cell_type": "markdown",
   "source": [
    "5.3. Alien Colors #1: Imagine an alien was just shot down in a game. Create a variable called `alien_color` and assign it a value of `'green'`, `'yellow'`, or `'red'`.\n",
    "- Write an `if` statement to test whether the alien's color is green. If it is, print a message that the player just earned 5 points.\n",
    "- Write one version of this program that passes the `if` test and another that fails. (The version that fails will have no output.)"
   ],
   "metadata": {
    "collapsed": false
   },
   "id": "52d49c748ff9312b"
  },
  {
   "cell_type": "code",
   "execution_count": null,
   "outputs": [],
   "source": [
    "def check_if_alien_colour_is_green(alien_color):\n",
    "    if alien_color == \"green\":\n",
    "        print(\"You just earned 5 points.\")\n",
    "\n",
    "alien_color = \"green\"\n",
    "\n",
    "check_if_alien_colour_is_green(alien_color)\n",
    "    \n",
    "alien_color = \"red\"\n",
    "\n",
    "check_if_alien_colour_is_green(alien_color)"
   ],
   "metadata": {
    "collapsed": false
   },
   "id": "8061ca1d45552487"
  },
  {
   "cell_type": "markdown",
   "source": [
    "5.4. Alien Colors #2: Choose a color for an alien as you did in the previous exercise, and write an `if-else` chain.\n",
    "- If the alien's color is green, print a statement that the player just earned 5 points for shooting the alien.\n",
    "- If the alien's color isn't green, print a statement that the player just earned 10 points.\n",
    "- Write one version of this program that runs the `if` block and another that runs the `else` block."
   ],
   "metadata": {
    "collapsed": false
   },
   "id": "cef55b518bbea7e0"
  },
  {
   "cell_type": "code",
   "execution_count": null,
   "outputs": [],
   "source": [
    "def check_alien_colour(alien_color):\n",
    "    if alien_color == \"green\":\n",
    "        print(\"You just earned 5 points.\")\n",
    "    else:\n",
    "        print(\"You just earned 10 points.\")\n",
    "        \n",
    "check_alien_colour(alien_color=\"green\")\n",
    "check_alien_colour(alien_color=\"red\")"
   ],
   "metadata": {
    "collapsed": false
   },
   "id": "97411cf1e74362a5"
  },
  {
   "cell_type": "markdown",
   "source": [
    "5.5. Alien Colors #3: Turn your `if-else` chain from the previous exercise into an `if-elif-else` chain.\n",
    "- If the alien is green, print a message that the player earned 5 points.\n",
    "- If the alien is yellow, print a message that the player earned 10 points.\n",
    "- If the alien is red, print a message that the player earned 15 points.\n",
    "- Write three versions of this program, making sure each message is printed for the appropriate color alien."
   ],
   "metadata": {
    "collapsed": false
   },
   "id": "6711cb657d44ac91"
  },
  {
   "cell_type": "code",
   "execution_count": null,
   "outputs": [],
   "source": [
    "def check_alien_colour(alien_color):\n",
    "    if alien_color == \"green\":\n",
    "        print(\"You just earned 5 points.\")\n",
    "    elif alien_color == \"yellow\":\n",
    "        print(\"You just earned 10 points\")\n",
    "    elif alien_color == \"red\":\n",
    "        print(\"You just earned 15 points.\")\n",
    "        \n",
    "check_alien_colour(\"green\")\n",
    "check_alien_colour(\"yellow\")\n",
    "check_alien_colour(\"red\")"
   ],
   "metadata": {
    "collapsed": false
   },
   "id": "8b58e31f76ec5d2b"
  },
  {
   "cell_type": "markdown",
   "source": [
    "5.6. Stages of Life: Write an `if-elif-else` chain that determines a person's stage of life. Set a value for the variable `age`, and then:\n",
    "- If the person is less than 2 years old, print a message that the person is a baby.\n",
    "- If the person is at least 2 years old but less than 4, print a message that the person is a toddler.\n",
    "- If the person is at least 4 years old but less than 13, print a message that the person is a kid.\n",
    "- If the person is at least 13 years old but less than 20, print a message that the person is a teenager.\n",
    "- If the person is at least 20 years old but less than 65, print a message that the person is an adult.\n",
    "- If the person is age 65 or older, print a message that the person is an elder."
   ],
   "metadata": {
    "collapsed": false
   },
   "id": "788b4334403769af"
  },
  {
   "cell_type": "markdown",
   "source": [],
   "metadata": {
    "collapsed": false
   },
   "id": "80095cbc5b318c12"
  },
  {
   "cell_type": "code",
   "execution_count": null,
   "outputs": [],
   "source": [
    "age = 3\n",
    "\n",
    "if age <= 2:\n",
    "    print(\"You're a baby\")\n",
    "elif 2 <= age <= 4:\n",
    "    print(\"You're a toddler\")\n",
    "elif 4 <= age <= 13:\n",
    "    print(\"You're a kid\")\n",
    "elif 13 <= age <= 20:\n",
    "    print(\"You're a teen\")\n",
    "elif 20 <= age <= 65:\n",
    "    print(\"You're an adult\")\n",
    "else:\n",
    "    print(\"You're an elder\")\n",
    "    "
   ],
   "metadata": {
    "collapsed": false
   },
   "id": "781d44a4987b0c6b"
  },
  {
   "cell_type": "markdown",
   "source": [
    "5.7. Favorite Fruit: Make a list of your favorite fruits, and then write a series of independent `if` statements that check for certain fruits in your list.\n",
    "- Make a list of your three favorite fruits and call it `favorite_fruits`.\n",
    "- Write five `if` statements. Each should check whether a certain kind of fruit is in your list. If the fruit is in your list, the `if` block should print a statement, such as \"You really like bananas!\""
   ],
   "metadata": {
    "collapsed": false
   },
   "id": "2686a7616d6b2c38"
  },
  {
   "cell_type": "code",
   "execution_count": null,
   "outputs": [],
   "source": [
    "def make_three_guesses(guess1, guess2, guess3, list_name):\n",
    "    if guess1 in list_name:\n",
    "        print(f\"You guessed that it was {guess1} correctly.\")\n",
    "    if guess2 in list_name:\n",
    "        print(f\"You guessed that it was {guess2} correctly.\")\n",
    "    if guess3 in list_name:\n",
    "        print(f\"You guessed that it was {guess3} correctly.\")\n",
    "    else:\n",
    "        print(f\"You didn't guess anything. My favourite fruits are {', '.join(list_name)}.\")\n",
    "        \n",
    "fav_fruits = ['dragon fruit', 'passion fruit', 'watermelon', 'banana', 'kiwi']\n",
    "\n",
    "make_three_guesses('banana', 'apple', 'kiwi', fav_fruits)\n",
    "make_three_guesses('apple', 'grapes', 'raspberries', fav_fruits)\n",
    "    \n",
    "    "
   ],
   "metadata": {
    "collapsed": false
   },
   "id": "1ba64a66a98f9550"
  },
  {
   "cell_type": "markdown",
   "source": [
    "5.8. Hello Admin: Make a list of five or more usernames, including the name `'admin'`. Imagine you are writing code that will welcome people to your application on login. Loop through the list, and print a greeting to each person:\n",
    "- If the username is `'admin'`, print a special greeting, such as \"Hello admin, would you like to see a status report?\"\n",
    "- Otherwise, print a generic greeting, such as \"Hello Jaden, thank you for logging in again.\""
   ],
   "metadata": {
    "collapsed": false
   },
   "id": "40a1d6710700174b"
  },
  {
   "cell_type": "code",
   "execution_count": null,
   "outputs": [],
   "source": [
    "usernames = ['admin', 'Peter', \"Katy\", \"Kalo\", \"Lily\"]\n",
    "\n",
    "for username in usernames:\n",
    "    if username == 'admin':\n",
    "        print(f\"Hello, {username}, would you like to see a status report?\")\n",
    "    else:\n",
    "        print(f\"Hello, {username}, welcome back.\")"
   ],
   "metadata": {
    "collapsed": false
   },
   "id": "58c84a9de991e8f"
  },
  {
   "cell_type": "markdown",
   "source": [
    "5.9. No Users: Add an `if` test to `hello_admin.py` to make sure the list of users is not empty.\n",
    "- If the list is empty, print the message \"We need to find some users!\"\n",
    "- Remove all of the usernames from your list, and make sure the correct message is printed."
   ],
   "metadata": {
    "collapsed": false
   },
   "id": "3a2d597b077e3d68"
  },
  {
   "cell_type": "code",
   "execution_count": null,
   "outputs": [],
   "source": [
    "users = []\n",
    "\n",
    "if not users:\n",
    "    print(\"There are currently no users.\")\n",
    "else:\n",
    "    for user in users:\n",
    "        if user == \"admin\":\n",
    "            print(f\"Welcome back, {user}. Would you like to see a status report?\")\n",
    "        else:\n",
    "            print(f\"Welcome back, {user}.\")"
   ],
   "metadata": {
    "collapsed": false
   },
   "id": "86005f092e9a7c01"
  },
  {
   "cell_type": "markdown",
   "source": [
    "5.10. Checking Usernames: Do the following to create a program that simulates how websites ensure that everyone has a unique username.\n",
    "- Make a list of five or more usernames called `current_users`.\n",
    "- Make another list of five usernames called `new_users`. Make sure one or two of the new usernames are also in the `current_users` list.\n",
    "- Loop through the `new_users` list to see if each new username has already been used. If it has, print a message that the person will need to enter a new username. If a username has not been used, print a message saying that the username is available.\n",
    "- Make sure your comparison is case insensitive. If `'John'` has been used, `'JOHN'` should not be accepted. (To do this, you'll need to make a copy of `current_users` that will not be changed when you convert its strings to lowercase.)"
   ],
   "metadata": {
    "collapsed": false
   },
   "id": "e213a1d7c5a5e50e"
  },
  {
   "cell_type": "code",
   "execution_count": null,
   "outputs": [],
   "source": [
    "current_users = [\"Sydney\", \"Samantha\", \"oliver\", \"aaron\", \"effie\"]\n",
    "\n",
    "new_users = [\"lois\", \"dominic\", \"Oliver\", \"AARON\", \"effie\"]\n",
    "\n",
    "for new_user in new_users:\n",
    "    if (new_user in current_users) or (new_user.lower() in current_users) or (new_user.upper() in current_users) or (new_user.capitalize() in current_users):\n",
    "        print(f\"Username {new_user} is not available.\")\n",
    "    else:\n",
    "        print(f\"Username {new_user} is available!\")"
   ],
   "metadata": {
    "collapsed": false
   },
   "id": "6aff5456b3a10eb7"
  },
  {
   "cell_type": "markdown",
   "source": [
    "5.11. Ordinal Numbers: Ordinal numbers indicate their position in a list, such as 1st or 2nd. Most ordinal numbers end in `th`, except 1, 2, and 3.\n",
    "- Store the numbers 1 through 9 in a list.\n",
    "- Loop through the list.\n",
    "- Use an `if-elif-else` chain inside the loop to print the proper ordinal ending for each number. Your output should read \"1st 2nd 3rd 4th 5th 6th 7th 8th 9th\", and each result should be on a separate line."
   ],
   "metadata": {
    "collapsed": false
   },
   "id": "c158c2152fa6a33"
  },
  {
   "cell_type": "code",
   "execution_count": null,
   "outputs": [],
   "source": [
    "numbers = [1, 2, 3, 4, 5, 6, 7, 8, 9]\n",
    "ordinal_numbers = []\n",
    "\n",
    "for number in numbers:\n",
    "    if (number != 1) and (number != 2) and (number != 3):\n",
    "        ordinal_number = f\"{number}th\"\n",
    "        ordinal_numbers.append(ordinal_number)\n",
    "    elif number == 1:\n",
    "        ordinal_number = f\"{number}st\"\n",
    "        ordinal_numbers.append(ordinal_number)\n",
    "    elif number == 2:\n",
    "        ordinal_number = f\"{number}nd\"\n",
    "        ordinal_numbers.append(ordinal_number)\n",
    "    else:\n",
    "        ordinal_number = f\"{number}rd\"\n",
    "        ordinal_numbers.append(ordinal_number)\n",
    "\n",
    "ordinal_numbers.sort()\n",
    "\n",
    "for ordinal_number in ordinal_numbers:\n",
    "    print(f\"{ordinal_number}\")\n",
    "        "
   ],
   "metadata": {
    "collapsed": false
   },
   "id": "3df3463f457df236"
  },
  {
   "cell_type": "markdown",
   "source": [],
   "metadata": {
    "collapsed": false
   },
   "id": "336c1690c5e983ee"
  }
 ],
 "metadata": {
  "kernelspec": {
   "display_name": "Python 3",
   "language": "python",
   "name": "python3"
  },
  "language_info": {
   "codemirror_mode": {
    "name": "ipython",
    "version": 2
   },
   "file_extension": ".py",
   "mimetype": "text/x-python",
   "name": "python",
   "nbconvert_exporter": "python",
   "pygments_lexer": "ipython2",
   "version": "2.7.6"
  }
 },
 "nbformat": 4,
 "nbformat_minor": 5
}
