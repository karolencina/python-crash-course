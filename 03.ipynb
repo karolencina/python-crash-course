{
 "cells": [
  {
   "cell_type": "markdown",
   "source": [
    "3.1 Names: Store the names of a few of your friends in a list called names. Print each person’s name by accessing each element in the list, one at a time."
   ],
   "metadata": {
    "collapsed": false
   },
   "id": "8b9130091d6b121f"
  },
  {
   "cell_type": "code",
   "execution_count": null,
   "outputs": [],
   "source": [
    "names = ['Katsu', 'Mathi', 'Oli', 'Cat', 'Hrissi', 'Jadyn']\n",
    "print(names[1])"
   ],
   "metadata": {
    "collapsed": false
   },
   "id": "8119a90da3a3bf60"
  },
  {
   "cell_type": "markdown",
   "source": [
    "3.2 Greetings: Start with the list you used in 3.1, but instead of just printing each person’s name, print a message to them. The text of each message should be the same, but each message should be personalized with the person’s name."
   ],
   "metadata": {
    "collapsed": false
   },
   "id": "aa907700294c5b"
  },
  {
   "cell_type": "code",
   "execution_count": null,
   "outputs": [],
   "source": [
    "print(f'Sos re hermoso {names[1]}!')"
   ],
   "metadata": {
    "collapsed": false
   },
   "id": "adfb93781f255b1b"
  },
  {
   "cell_type": "markdown",
   "source": [
    "3.3 Your Own List: Think of your favorite mode of transportation, such as a motorcycle or a car, and make a list that stores several examples. Use your list to print a series of statements about these items, such as “I would like to own a Honda motorcycle.”"
   ],
   "metadata": {
    "collapsed": false
   },
   "id": "708418e22583c25b"
  },
  {
   "cell_type": "code",
   "execution_count": null,
   "outputs": [],
   "source": [
    "vehicles = ['Dosnoventa', 'BMW', 'Tesla']\n",
    "\n",
    "print(f'{names[0]} wants a {vehicles[0]}, I wanted a {vehicles[2]} before but now I want a {vehicles[1]}.')"
   ],
   "metadata": {
    "collapsed": false
   },
   "id": "96e503499a535e07"
  },
  {
   "cell_type": "markdown",
   "source": [
    "3.4 Guest List: If you could invite anyone, living or deceased, to dinner, who would you invite? Make a list that includes at least three people you’d like to invite to dinner. Then use your list to print a message to each person, inviting them to dinner."
   ],
   "metadata": {
    "collapsed": false
   },
   "id": "5aebd703156023a5"
  },
  {
   "cell_type": "code",
   "execution_count": null,
   "outputs": [],
   "source": [
    "guests = ['Cillian Murphy', 'Phoebe Waller-Bridge', 'Andrew Scott']\n",
    "print(f'Hey {guests[0]}, {guests[1]}, {guests[2]} you\\'re invited to dinner.')"
   ],
   "metadata": {
    "collapsed": false
   },
   "id": "9502b4f0dcb1ca47"
  },
  {
   "cell_type": "markdown",
   "source": [
    "3.5 Changing Guest List: You just heard that one of your guests can’t make the dinner, so you need to send out a new set of invitations. You’ll have to think of someone else to invite.\n",
    "- Start with your program from 3.4. Add a print() call at the end of your program stating the name of the guest who can’t make it.\n",
    "- Modify your list, replacing the name of the guest who can’t make it with the name of the new person you are inviting.\n",
    "- Print a second set of invitation messages, one for each person who is still in your list."
   ],
   "metadata": {
    "collapsed": false
   },
   "id": "2c95679786f857b"
  },
  {
   "cell_type": "code",
   "execution_count": null,
   "outputs": [],
   "source": [
    "print(f'{guests[0]} can\\'t make it to the dinner... obv.')\n",
    "guests[0] = 'Astrid Berges-Frisbey'\n",
    "print(f'Hey {guests[0]}, {guests[1]}, {guests[2]} you\\'re invited to dinner.')"
   ],
   "metadata": {
    "collapsed": false
   },
   "id": "10aedf6a0c0f3e14"
  },
  {
   "cell_type": "markdown",
   "source": [
    "3.6 More Guests: You just found a bigger dinner table, so now more space is available. Think of three more guests to invite to dinner.\n",
    "- Use insert() to add one new guest to the beginning of your list.\n",
    "- Use insert() to add one new guest to the middle of your list.\n",
    "- Use append() to add one new guest to the end of your list.\n",
    "- Print a new set of invitation messages, one for each person in your list."
   ],
   "metadata": {
    "collapsed": false
   },
   "id": "a8587f12ac4fe4ea"
  },
  {
   "cell_type": "code",
   "execution_count": null,
   "outputs": [],
   "source": [
    "guests.insert(2, 'Alex Turner')\n",
    "guests.insert(1, 'Ellie Rowsell')\n",
    "guests.append('Keanu Reeves')\n",
    "\n",
    "print(f'Hey {guests[0]}, {guests[1]}, {guests[2]}, {guests[3]}, {guests[4]}, {guests[5]} you\\'re invited to dinner.')"
   ],
   "metadata": {
    "collapsed": false
   },
   "id": "eb566027fb5da835"
  },
  {
   "cell_type": "markdown",
   "source": [
    "3.7 Shrinking Guest List: You just found out that your new dinner table won’t arrive in time for the dinner, and you have space for only two guests.\n",
    "- Start with your program from 3.6. Add a new line that prints a message saying that you can invite only two people for dinner.\n",
    "- Use pop() to remove guests from your list one at a time until only two names remain in your list. Each time you pop a name from your list, print a message to that person letting them know you’re sorry you can’t invite them to dinner.\n",
    "- Print a message to each of the two people still on your list, letting them know they’re still invited.\n",
    "- Use del to remove the last two names from your list, so you have an empty list. Print your list to make sure you actually have an empty list at the end of your program."
   ],
   "metadata": {
    "collapsed": false
   },
   "id": "c4c0ff5548af306d"
  },
  {
   "cell_type": "code",
   "execution_count": null,
   "outputs": [],
   "source": [
    "print('I can only invite two people for dinner.')\n",
    "print(f'Sorry {guests.pop()}, I can\\'t invite you to dinner.')\n",
    "print(f'Sorry {guests.pop()}, I can\\'t invite you to dinner.')\n",
    "print(f'Sorry {guests.pop()}, I can\\'t invite you to dinner.')\n",
    "print(f'Sorry {guests.pop()}, I can\\'t invite you to dinner.')\n",
    "print(f'{guests[0]} and {guests[1]} you\\'re still invited to dinner.')\n",
    "del guests[1]\n",
    "del guests[0]\n",
    "print(guests)"
   ],
   "metadata": {
    "collapsed": false
   },
   "id": "bc639b314118e0e6"
  },
  {
   "cell_type": "markdown",
   "source": [
    "3.8 Seeing the World: Think of at least five places in the world you’d like to visit.\n",
    "- Store the locations in a list. Make sure the list is not in alphabetical order.\n",
    "- Print your list in its original order. Don’t worry about printing the list neatly, just print it as a raw Python list.\n",
    "- Use sorted() to print your list in alphabetical order without modifying the actual list.\n",
    "- Show that your list is still in its original order by printing it.\n",
    "- Use sorted() to print your list in reverse alphabetical order without changing the order of the original list.\n",
    "- Show that your list is still in its original order by printing it again.\n",
    "- Use reverse() to change the order of your list. Print the list to show that its order has changed.\n",
    "- Use reverse() to change the order of your list again. Print the list to show it’s back to its original order.\n",
    "- Use sort() to change your list so it’s stored in alphabetical order. Print the list to show that its order has been changed.\n",
    "- Use sort() to change your list so it’s stored in reverse alphabetical order. Print the list to show that its order has changed."
   ],
   "metadata": {
    "collapsed": false
   },
   "id": "d7bb67502317f746"
  },
  {
   "cell_type": "code",
   "execution_count": null,
   "outputs": [],
   "source": [
    "to_visit = ['Kyoto', 'Maldives', 'San Francisco', 'Tuscany', 'Rio de Janeiro']\n",
    "print(to_visit)\n",
    "print(sorted(to_visit))\n",
    "print(sorted(to_visit, reverse=True))\n",
    "to_visit.reverse()\n",
    "print(to_visit)\n",
    "to_visit.reverse()\n",
    "print(to_visit)\n",
    "to_visit.sort()\n",
    "print(to_visit)\n",
    "to_visit.sort(reverse=True)\n",
    "print(to_visit)"
   ],
   "metadata": {
    "collapsed": false
   },
   "id": "ab9bca4e66b653ae"
  },
  {
   "cell_type": "markdown",
   "source": [
    "3.9 Dinner Guests: Working with one of the programs from 3.4 through 3.7, use len() to print a message indicating the number of people you are inviting to dinner."
   ],
   "metadata": {
    "collapsed": false
   },
   "id": "963c029b375b8a0d"
  },
  {
   "cell_type": "code",
   "execution_count": null,
   "outputs": [],
   "source": [
    "guests.append('Johnny Depp')\n",
    "guests.append('Penelope Cruz')\n",
    "guests.append('Eva Green')\n",
    "print(guests)\n",
    "print(f'I\\'m inviting {len(guests)} people to dinner.')"
   ],
   "metadata": {
    "collapsed": false
   },
   "id": "7a1e6afa2179561"
  },
  {
   "cell_type": "markdown",
   "source": [
    "3.10 Every Function: Think of something you could store in a list. For example, you could make a list of mountains, rivers, countries, cities, languages, or anything else you’d like. Write a program that creates a list containing these items and then uses each function introduced in this chapter at least once."
   ],
   "metadata": {
    "collapsed": false
   },
   "id": "865212d4fdf62573"
  },
  {
   "cell_type": "code",
   "execution_count": null,
   "outputs": [],
   "source": [
    "mountains = ['Aconcagua', 'Chimborazo', 'El Muerto', 'Cotopaxi', 'Pico Bolivar']\n",
    "\n",
    "print(mountains[0]) # First item\n",
    "print(mountains[-1]) # Last item\n",
    "print(mountains[1:3]) # Slicing (2nd and 3rd item) \n",
    "print(mountains[:3]) # Slicing (1st, 2nd and 3rd item)\n",
    "mountains.append('Cayambe') # Adding item to the end of the list\n",
    "print(mountains)\n",
    "mountains.insert(2, 'Carihuairazo') # Inserting item by index\n",
    "print(mountains)\n",
    "del mountains[2] # Removing item by index (permanent)\n",
    "print(mountains)\n",
    "undo_mountain = mountains.pop() # Removing item by index and storing it in a variable\n",
    "print(mountains)\n",
    "print(undo_mountain) \n",
    "mountains.remove('Cotopaxi') # Removing item by value\n",
    "print(mountains)\n",
    "mountains.sort() # Sorting list permanently (alphabetically)\n",
    "print(mountains)\n",
    "mountains.sort(reverse=True) # Sorting list permanently (reverse alphabetically)\n",
    "print(mountains)\n",
    "print(sorted(mountains)) # Sorting list temporarily (alphabetically)\n",
    "print(sorted(mountains, reverse=True)) # Sorting list temporarily (reverse alphabetically)\n",
    "mountains.reverse() # Reversing list permanently\n",
    "print(mountains)\n",
    "print(len(mountains)) # Length of list"
   ],
   "metadata": {
    "collapsed": false
   },
   "id": "b77b8eade92f066c"
  }
 ],
 "metadata": {
  "kernelspec": {
   "display_name": "Python 3",
   "language": "python",
   "name": "python3"
  },
  "language_info": {
   "codemirror_mode": {
    "name": "ipython",
    "version": 2
   },
   "file_extension": ".py",
   "mimetype": "text/x-python",
   "name": "python",
   "nbconvert_exporter": "python",
   "pygments_lexer": "ipython2",
   "version": "2.7.6"
  }
 },
 "nbformat": 4,
 "nbformat_minor": 5
}
