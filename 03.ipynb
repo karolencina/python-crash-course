{
 "cells": [
  {
   "cell_type": "markdown",
   "source": [
    "3.1 Names: Store the names of a few of your friends in a list called names. Print each person’s name by accessing each element in the list, one at a time."
   ],
   "metadata": {
    "collapsed": false
   },
   "id": "8b9130091d6b121f"
  },
  {
   "cell_type": "code",
   "execution_count": 52,
   "outputs": [
    {
     "name": "stdout",
     "output_type": "stream",
     "text": [
      "Mathi\n"
     ]
    }
   ],
   "source": [
    "names = ['Katsu', 'Mathi', 'Oli', 'Cat', 'Hrissi', 'Jadyn']\n",
    "print(names[1])"
   ],
   "metadata": {
    "collapsed": false,
    "ExecuteTime": {
     "end_time": "2024-01-23T17:22:02.621756Z",
     "start_time": "2024-01-23T17:22:02.607812Z"
    }
   },
   "id": "8119a90da3a3bf60"
  },
  {
   "cell_type": "markdown",
   "source": [
    "3.2 Greetings: Start with the list you used in 3.1, but instead of just printing each person’s name, print a message to them. The text of each message should be the same, but each message should be personalized with the person’s name."
   ],
   "metadata": {
    "collapsed": false
   },
   "id": "aa907700294c5b"
  },
  {
   "cell_type": "code",
   "execution_count": 53,
   "outputs": [
    {
     "name": "stdout",
     "output_type": "stream",
     "text": [
      "Sos re hermoso Mathi!\n"
     ]
    }
   ],
   "source": [
    "print(f'Sos re hermoso {names[1]}!')"
   ],
   "metadata": {
    "collapsed": false,
    "ExecuteTime": {
     "end_time": "2024-01-23T17:22:02.622659Z",
     "start_time": "2024-01-23T17:22:02.612288Z"
    }
   },
   "id": "adfb93781f255b1b"
  },
  {
   "cell_type": "markdown",
   "source": [
    "3.3 Your Own List: Think of your favorite mode of transportation, such as a motorcycle or a car, and make a list that stores several examples. Use your list to print a series of statements about these items, such as “I would like to own a Honda motorcycle.”"
   ],
   "metadata": {
    "collapsed": false
   },
   "id": "708418e22583c25b"
  },
  {
   "cell_type": "code",
   "execution_count": 54,
   "outputs": [
    {
     "name": "stdout",
     "output_type": "stream",
     "text": [
      "Katsu wants a Dosnoventa, I wanted a Tesla before but now I want a BMW.\n"
     ]
    }
   ],
   "source": [
    "vehicles = ['Dosnoventa', 'BMW', 'Tesla']\n",
    "\n",
    "print(f'{names[0]} wants a {vehicles[0]}, I wanted a {vehicles[2]} before but now I want a {vehicles[1]}.')"
   ],
   "metadata": {
    "collapsed": false,
    "ExecuteTime": {
     "end_time": "2024-01-23T17:22:02.623549Z",
     "start_time": "2024-01-23T17:22:02.616233Z"
    }
   },
   "id": "96e503499a535e07"
  },
  {
   "cell_type": "markdown",
   "source": [
    "3.4 Guest List: If you could invite anyone, living or deceased, to dinner, who would you invite? Make a list that includes at least three people you’d like to invite to dinner. Then use your list to print a message to each person, inviting them to dinner."
   ],
   "metadata": {
    "collapsed": false
   },
   "id": "5aebd703156023a5"
  },
  {
   "cell_type": "code",
   "execution_count": 55,
   "outputs": [
    {
     "name": "stdout",
     "output_type": "stream",
     "text": [
      "Hey Cillian Murphy, Phoebe Waller-Bridge, Andrew Scott you're invited to dinner.\n"
     ]
    }
   ],
   "source": [
    "guests = ['Cillian Murphy', 'Phoebe Waller-Bridge', 'Andrew Scott']\n",
    "print(f'Hey {guests[0]}, {guests[1]}, {guests[2]} you\\'re invited to dinner.')"
   ],
   "metadata": {
    "collapsed": false,
    "ExecuteTime": {
     "end_time": "2024-01-23T17:22:02.624770Z",
     "start_time": "2024-01-23T17:22:02.619752Z"
    }
   },
   "id": "9502b4f0dcb1ca47"
  },
  {
   "cell_type": "markdown",
   "source": [
    "3.5 Changing Guest List: You just heard that one of your guests can’t make the dinner, so you need to send out a new set of invitations. You’ll have to think of someone else to invite.\n",
    "- Start with your program from 3.4. Add a print() call at the end of your program stating the name of the guest who can’t make it.\n",
    "- Modify your list, replacing the name of the guest who can’t make it with the name of the new person you are inviting.\n",
    "- Print a second set of invitation messages, one for each person who is still in your list."
   ],
   "metadata": {
    "collapsed": false
   },
   "id": "2c95679786f857b"
  },
  {
   "cell_type": "code",
   "execution_count": 56,
   "outputs": [
    {
     "name": "stdout",
     "output_type": "stream",
     "text": [
      "Cillian Murphy can't make it to the dinner... obv.\n",
      "Hey Astrid Berges-Frisbey, Phoebe Waller-Bridge, Andrew Scott you're invited to dinner.\n"
     ]
    }
   ],
   "source": [
    "print(f'{guests[0]} can\\'t make it to the dinner... obv.')\n",
    "guests[0] = 'Astrid Berges-Frisbey'\n",
    "print(f'Hey {guests[0]}, {guests[1]}, {guests[2]} you\\'re invited to dinner.')"
   ],
   "metadata": {
    "collapsed": false,
    "ExecuteTime": {
     "end_time": "2024-01-23T17:22:02.679285Z",
     "start_time": "2024-01-23T17:22:02.622958Z"
    }
   },
   "id": "10aedf6a0c0f3e14"
  },
  {
   "cell_type": "markdown",
   "source": [
    "3.6 More Guests: You just found a bigger dinner table, so now more space is available. Think of three more guests to invite to dinner.\n",
    "- Use insert() to add one new guest to the beginning of your list.\n",
    "- Use insert() to add one new guest to the middle of your list.\n",
    "- Use append() to add one new guest to the end of your list.\n",
    "- Print a new set of invitation messages, one for each person in your list."
   ],
   "metadata": {
    "collapsed": false
   },
   "id": "a8587f12ac4fe4ea"
  },
  {
   "cell_type": "code",
   "execution_count": 57,
   "outputs": [
    {
     "name": "stdout",
     "output_type": "stream",
     "text": [
      "Hey Astrid Berges-Frisbey, Ellie Rowsell, Phoebe Waller-Bridge, Alex Turner, Andrew Scott, Keanu Reeves you're invited to dinner.\n"
     ]
    }
   ],
   "source": [
    "guests.insert(2, 'Alex Turner')\n",
    "guests.insert(1, 'Ellie Rowsell')\n",
    "guests.append('Keanu Reeves')\n",
    "\n",
    "print(f'Hey {guests[0]}, {guests[1]}, {guests[2]}, {guests[3]}, {guests[4]}, {guests[5]} you\\'re invited to dinner.')"
   ],
   "metadata": {
    "collapsed": false,
    "ExecuteTime": {
     "end_time": "2024-01-23T17:22:02.679723Z",
     "start_time": "2024-01-23T17:22:02.625093Z"
    }
   },
   "id": "eb566027fb5da835"
  },
  {
   "cell_type": "markdown",
   "source": [
    "3.7 Shrinking Guest List: You just found out that your new dinner table won’t arrive in time for the dinner, and you have space for only two guests.\n",
    "- Start with your program from 3.6. Add a new line that prints a message saying that you can invite only two people for dinner.\n",
    "- Use pop() to remove guests from your list one at a time until only two names remain in your list. Each time you pop a name from your list, print a message to that person letting them know you’re sorry you can’t invite them to dinner.\n",
    "- Print a message to each of the two people still on your list, letting them know they’re still invited.\n",
    "- Use del to remove the last two names from your list, so you have an empty list. Print your list to make sure you actually have an empty list at the end of your program."
   ],
   "metadata": {
    "collapsed": false
   },
   "id": "c4c0ff5548af306d"
  },
  {
   "cell_type": "code",
   "execution_count": 58,
   "outputs": [
    {
     "name": "stdout",
     "output_type": "stream",
     "text": [
      "I can only invite two people for dinner.\n",
      "Sorry Keanu Reeves, I can't invite you to dinner.\n",
      "Sorry Andrew Scott, I can't invite you to dinner.\n",
      "Sorry Alex Turner, I can't invite you to dinner.\n",
      "Sorry Phoebe Waller-Bridge, I can't invite you to dinner.\n",
      "Astrid Berges-Frisbey and Ellie Rowsell you're still invited to dinner.\n"
     ]
    }
   ],
   "source": [
    "print('I can only invite two people for dinner.')\n",
    "print(f'Sorry {guests.pop()}, I can\\'t invite you to dinner.')\n",
    "print(f'Sorry {guests.pop()}, I can\\'t invite you to dinner.')\n",
    "print(f'Sorry {guests.pop()}, I can\\'t invite you to dinner.')\n",
    "print(f'Sorry {guests.pop()}, I can\\'t invite you to dinner.')\n",
    "print(f'{guests[0]} and {guests[1]} you\\'re still invited to dinner.')"
   ],
   "metadata": {
    "collapsed": false,
    "ExecuteTime": {
     "end_time": "2024-01-23T17:22:02.680175Z",
     "start_time": "2024-01-23T17:22:02.629911Z"
    }
   },
   "id": "bc639b314118e0e6"
  },
  {
   "cell_type": "code",
   "execution_count": 58,
   "outputs": [],
   "source": [],
   "metadata": {
    "collapsed": false,
    "ExecuteTime": {
     "end_time": "2024-01-23T17:22:02.680463Z",
     "start_time": "2024-01-23T17:22:02.633052Z"
    }
   },
   "id": "ab9bca4e66b653ae"
  }
 ],
 "metadata": {
  "kernelspec": {
   "display_name": "Python 3",
   "language": "python",
   "name": "python3"
  },
  "language_info": {
   "codemirror_mode": {
    "name": "ipython",
    "version": 2
   },
   "file_extension": ".py",
   "mimetype": "text/x-python",
   "name": "python",
   "nbconvert_exporter": "python",
   "pygments_lexer": "ipython2",
   "version": "2.7.6"
  }
 },
 "nbformat": 4,
 "nbformat_minor": 5
}
