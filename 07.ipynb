{
 "cells": [
  {
   "metadata": {},
   "cell_type": "markdown",
   "source": "7.1. Rental Car: Write a program that asks the user what kind of rental car they would like. Print a message about that car, such as “Let me see if I can find you a Subaru.”",
   "id": "a5247da4340e8fb5"
  },
  {
   "cell_type": "code",
   "id": "initial_id",
   "metadata": {
    "collapsed": true
   },
   "source": [
    "car_requested = input(\"What kind of rental car would you like? \")\n",
    "print(f\"Let me see if I can find you a {car_requested}\")"
   ],
   "outputs": [],
   "execution_count": null
  },
  {
   "metadata": {},
   "cell_type": "markdown",
   "source": "7.2. Restaurant Seating: Write a program that asks the user how many people are in their dinner group. If the answer is more than eight, print a message saying they’ll have to wait for a table. Otherwise, report that their table is ready.",
   "id": "273929700267cc10"
  },
  {
   "metadata": {},
   "cell_type": "code",
   "source": [
    "num_of_people = input(\"How many people are in your dinner group? \")\n",
    "num_of_people = int(num_of_people)\n",
    "\n",
    "if num_of_people < 8:\n",
    "    print(f\"The table is ready.\")\n",
    "else:\n",
    "    print(f\"You will need a booking.\")"
   ],
   "id": "5c26324affeed0ae",
   "outputs": [],
   "execution_count": null
  },
  {
   "metadata": {},
   "cell_type": "markdown",
   "source": "7.3. Multiples of Ten: Ask the user for a number, and then report whether the number is a multiple of 10 or not.",
   "id": "afe1cc27d06f21fd"
  },
  {
   "metadata": {},
   "cell_type": "code",
   "source": [
    "num = input(\"Choose a number: \")\n",
    "\n",
    "num = int(num)\n",
    "\n",
    "if num % 10 == 0:\n",
    "    print(f\"{num} is a multiple of 10.\")\n",
    "else:\n",
    "    print(f\"{num} is not a multiple of 10.\")"
   ],
   "id": "86843358b08d1a59",
   "outputs": [],
   "execution_count": null
  }
 ],
 "metadata": {
  "kernelspec": {
   "display_name": "Python 3",
   "language": "python",
   "name": "python3"
  },
  "language_info": {
   "codemirror_mode": {
    "name": "ipython",
    "version": 2
   },
   "file_extension": ".py",
   "mimetype": "text/x-python",
   "name": "python",
   "nbconvert_exporter": "python",
   "pygments_lexer": "ipython2",
   "version": "2.7.6"
  }
 },
 "nbformat": 4,
 "nbformat_minor": 5
}
