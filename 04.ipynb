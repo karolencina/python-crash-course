{
 "cells": [
  {
   "cell_type": "raw",
   "source": [
    "4.1 Pizzas: Think of at least three kinds of your favorite pizza. Store these pizza names in a list, and then use a for loop to print the name of each pizza."
   ],
   "metadata": {
    "collapsed": false
   },
   "id": "347e8116c441d73c"
  },
  {
   "cell_type": "code",
   "execution_count": 1,
   "outputs": [
    {
     "name": "stdout",
     "output_type": "stream",
     "text": [
      "margherita\n",
      "quattro formaggi\n",
      "calzone\n"
     ]
    }
   ],
   "source": [
    "pizzas = ['margherita', 'quattro formaggi', 'calzone']\n",
    "for pizza in pizzas:\n",
    "    print(pizza)"
   ],
   "metadata": {
    "collapsed": false
   },
   "id": "1012687f14271cb7"
  },
  {
   "cell_type": "markdown",
   "source": [
    "Modify your for loop to print a sentence using the name of the pizza instead of printing just the name of the pizza. For each pizza you should have one line of output containing a simple statement like I like pepperoni pizza."
   ],
   "metadata": {
    "collapsed": false
   },
   "id": "5cb28da3be1aded1"
  },
  {
   "cell_type": "code",
   "execution_count": 2,
   "outputs": [
    {
     "name": "stdout",
     "output_type": "stream",
     "text": [
      "I like pizza margherita.\n",
      "I like pizza quattro formaggi.\n",
      "I like pizza calzone.\n"
     ]
    }
   ],
   "source": [
    "for pizza in pizzas:\n",
    "    print(f'I like pizza {pizza}.')"
   ],
   "metadata": {
    "collapsed": false,
    "ExecuteTime": {
     "end_time": "2024-01-23T15:45:21.544390Z",
     "start_time": "2024-01-23T15:45:21.540521Z"
    }
   },
   "id": "fea7b2303dea3da4"
  },
  {
   "cell_type": "markdown",
   "source": [
    "Add a line at the end of your program, outside the for loop, that states how much you like pizza. The output should consist of three or more lines about the kinds of pizza you like and then an additional sentence, such as I really love pizza!"
   ],
   "metadata": {
    "collapsed": false
   },
   "id": "bb0156870c49679c"
  },
  {
   "cell_type": "code",
   "execution_count": 3,
   "outputs": [
    {
     "name": "stdout",
     "output_type": "stream",
     "text": [
      "I like pizza margherita.\n",
      "I like pizza quattro formaggi.\n",
      "I like pizza calzone.\n",
      "I really love pizza!\n"
     ]
    }
   ],
   "source": [
    "for pizza in pizzas:\n",
    "    print(f'I like pizza {pizza}.')\n",
    "print('I really love pizza!')"
   ],
   "metadata": {
    "collapsed": false,
    "ExecuteTime": {
     "end_time": "2024-01-23T15:46:08.089201Z",
     "start_time": "2024-01-23T15:46:08.087653Z"
    }
   },
   "id": "75ae59574018fca7"
  },
  {
   "cell_type": "markdown",
   "source": [
    "4.2 Animals: Think of at least three different animals that have a common characteristic. Store the names of these animals in a list, and then use a for loop to print out the name of each animal."
   ],
   "metadata": {
    "collapsed": false
   },
   "id": "cefdfbc5f009746d"
  },
  {
   "cell_type": "code",
   "execution_count": 4,
   "outputs": [
    {
     "name": "stdout",
     "output_type": "stream",
     "text": [
      "cat\n",
      "dog\n",
      "chinchilla\n"
     ]
    }
   ],
   "source": [
    "animals = ['cat', 'dog', 'chinchilla']\n",
    "\n",
    "for animal in animals:\n",
    "    print(animal)"
   ],
   "metadata": {
    "collapsed": false,
    "ExecuteTime": {
     "end_time": "2024-01-23T15:47:24.198058Z",
     "start_time": "2024-01-23T15:47:24.193255Z"
    }
   },
   "id": "6316e73b7bf44c4b"
  },
  {
   "cell_type": "markdown",
   "source": [
    "Modify your program to print a statement about each animal, such as A dog would make a great pet."
   ],
   "metadata": {
    "collapsed": false
   },
   "id": "e6eafeaa308f3145"
  },
  {
   "cell_type": "code",
   "execution_count": 5,
   "outputs": [
    {
     "name": "stdout",
     "output_type": "stream",
     "text": [
      "A cat would make a great pet.\n",
      "A dog would make a great pet.\n",
      "A chinchilla would make a great pet.\n"
     ]
    }
   ],
   "source": [
    "for animal in animals:\n",
    "    print(f'A {animal} would make a great pet.')"
   ],
   "metadata": {
    "collapsed": false,
    "ExecuteTime": {
     "end_time": "2024-01-23T15:48:05.583642Z",
     "start_time": "2024-01-23T15:48:05.578246Z"
    }
   },
   "id": "e9de778a12467fdc"
  },
  {
   "cell_type": "markdown",
   "source": [
    "Add a line at the end of your program stating what these animals have in common. You could print a sentence such as Any of these animals would make a great pet!"
   ],
   "metadata": {
    "collapsed": false
   },
   "id": "f4f00c6cae4884fc"
  },
  {
   "cell_type": "code",
   "execution_count": 6,
   "outputs": [
    {
     "name": "stdout",
     "output_type": "stream",
     "text": [
      "A cat would make a great pet.\n",
      "A dog would make a great pet.\n",
      "A chinchilla would make a great pet.\n",
      "Any of these animals would make a great pet (althought cats are my fav)!\n"
     ]
    }
   ],
   "source": [
    "for animal in animals:\n",
    "    print(f'A {animal} would make a great pet.')\n",
    "    \n",
    "print('Any of these animals would make a great pet (althought cats are my fav)!')"
   ],
   "metadata": {
    "collapsed": false,
    "ExecuteTime": {
     "end_time": "2024-01-23T15:49:16.921935Z",
     "start_time": "2024-01-23T15:49:16.911599Z"
    }
   },
   "id": "1f93c316c421094a"
  },
  {
   "cell_type": "markdown",
   "source": [
    "4.3 Counting to Twenty: Use a for loop to print the numbers from 1 to 20, inclusive."
   ],
   "metadata": {
    "collapsed": false
   },
   "id": "fa7d5f6d074caf46"
  },
  {
   "cell_type": "code",
   "execution_count": 7,
   "outputs": [
    {
     "name": "stdout",
     "output_type": "stream",
     "text": [
      "1\n",
      "2\n",
      "3\n",
      "4\n",
      "5\n",
      "6\n",
      "7\n",
      "8\n",
      "9\n",
      "10\n",
      "11\n",
      "12\n",
      "13\n",
      "14\n",
      "15\n",
      "16\n",
      "17\n",
      "18\n",
      "19\n",
      "20\n"
     ]
    }
   ],
   "source": [
    "for number in range(1,21):\n",
    "    print(number)"
   ],
   "metadata": {
    "collapsed": false,
    "ExecuteTime": {
     "end_time": "2024-01-25T10:41:20.510150Z",
     "start_time": "2024-01-25T10:41:20.509280Z"
    }
   },
   "id": "e3ecab613a78aad5"
  },
  {
   "cell_type": "markdown",
   "source": [
    "4.4 One Million: Make a list of the numbers from one to one million, and then use a for loop to print the numbers. (If the output is taking too long, stop it by pressing ctrl-C or by closing the output window.)"
   ],
   "metadata": {
    "collapsed": false
   },
   "id": "f501c1b3a9c763e3"
  },
  {
   "cell_type": "code",
   "execution_count": 17,
   "outputs": [
    {
     "name": "stdout",
     "output_type": "stream",
     "text": [
      "13046\n"
     ]
    }
   ],
   "source": [
    "a_million = [number for number in range(1,900000)]\n",
    "    \n",
    "for item in a_million:\n",
    "    print(item)"
   ],
   "metadata": {
    "collapsed": false,
    "ExecuteTime": {
     "end_time": "2024-01-25T11:12:40.676203Z",
     "start_time": "2024-01-25T11:12:40.541270Z"
    }
   },
   "id": "814f41b298db3384"
  },
  {
   "cell_type": "markdown",
   "source": [
    "4.5 Summing a Million: Make a list of the numbers from one to one million, and then use min() and max() to make sure your list actually starts at one and ends at one million. Also, use the sum() function to see how quickly Python can add a million numbers."
   ],
   "metadata": {
    "collapsed": false
   },
   "id": "870effec1118e848"
  },
  {
   "cell_type": "code",
   "execution_count": 20,
   "outputs": [
    {
     "name": "stdout",
     "output_type": "stream",
     "text": [
      "1\n",
      "1000000\n",
      "500000500000\n"
     ]
    }
   ],
   "source": [
    "a_million = [number for number in range(1, 1000001)]\n",
    "\n",
    "print(min(a_million))\n",
    "print(max(a_million))\n",
    "print(sum(a_million))"
   ],
   "metadata": {
    "collapsed": false,
    "ExecuteTime": {
     "end_time": "2024-01-25T11:14:51.103334Z",
     "start_time": "2024-01-25T11:14:51.035596Z"
    }
   },
   "id": "b94b42968034f71b"
  },
  {
   "cell_type": "markdown",
   "source": [
    "4.6 Odd Numbers: Use the third argument of the range() function to make a list of the odd numbers from 1 to 20. Use a for loop to print each number."
   ],
   "metadata": {
    "collapsed": false
   },
   "id": "3f5e2423cb5b083"
  },
  {
   "cell_type": "code",
   "execution_count": 21,
   "outputs": [
    {
     "name": "stdout",
     "output_type": "stream",
     "text": [
      "1\n",
      "3\n",
      "5\n",
      "7\n",
      "9\n",
      "11\n",
      "13\n",
      "15\n",
      "17\n",
      "19\n"
     ]
    }
   ],
   "source": [
    "odd_numbers = [number for number in range(1,21,2)]\n",
    "\n",
    "for item in odd_numbers:\n",
    "    print(item)"
   ],
   "metadata": {
    "collapsed": false,
    "ExecuteTime": {
     "end_time": "2024-01-25T11:34:29.367615Z",
     "start_time": "2024-01-25T11:34:29.365961Z"
    }
   },
   "id": "c8f0e836df8f2899"
  },
  {
   "cell_type": "markdown",
   "source": [
    "4.7 Threes: Make a list of the multiples of 3 from 3 to 30. Use a for loop to print the numbers in your list."
   ],
   "metadata": {
    "collapsed": false
   },
   "id": "b327d979d382ad4c"
  },
  {
   "cell_type": "code",
   "execution_count": 22,
   "outputs": [
    {
     "name": "stdout",
     "output_type": "stream",
     "text": [
      "3\n",
      "6\n",
      "9\n",
      "12\n",
      "15\n",
      "18\n",
      "21\n",
      "24\n",
      "27\n",
      "30\n"
     ]
    }
   ],
   "source": [
    "multiples_of_3 = [number for number in range(3, 31, 3)]\n",
    "\n",
    "for item in multiples_of_3:\n",
    "    print(item)"
   ],
   "metadata": {
    "collapsed": false,
    "ExecuteTime": {
     "end_time": "2024-01-25T11:36:18.573359Z",
     "start_time": "2024-01-25T11:36:18.567743Z"
    }
   },
   "id": "14ee8b22d4a151a7"
  },
  {
   "cell_type": "markdown",
   "source": [
    "4.8 Cubes: A number raised to the third power is called a cube. For example, the cube of 2 is written as 2**3 in Python. Make a list of the first 10 cubes (that is, the cube of each integer from 1 through 10), and use a for loop to print out the value of each cube."
   ],
   "metadata": {
    "collapsed": false
   },
   "id": "239d20b94f86a81c"
  },
  {
   "cell_type": "code",
   "execution_count": 23,
   "outputs": [
    {
     "name": "stdout",
     "output_type": "stream",
     "text": [
      "1\n",
      "8\n",
      "27\n",
      "64\n",
      "125\n",
      "216\n",
      "343\n",
      "512\n",
      "729\n",
      "1000\n"
     ]
    }
   ],
   "source": [
    "cubes = [value**3 for value in range(1,11)]\n",
    "\n",
    "for item in cubes:\n",
    "    print(item)"
   ],
   "metadata": {
    "collapsed": false,
    "ExecuteTime": {
     "end_time": "2024-01-25T11:37:42.092919Z",
     "start_time": "2024-01-25T11:37:42.084392Z"
    }
   },
   "id": "49bb2516d3f6d36a"
  },
  {
   "cell_type": "markdown",
   "source": [
    "4.9 Cube Comprehension: Use a list comprehension to generate a list of the first 10 cubes."
   ],
   "metadata": {
    "collapsed": false
   },
   "id": "d879e038359c44ee"
  },
  {
   "cell_type": "code",
   "execution_count": 24,
   "outputs": [],
   "source": [
    "cubes = [value**3 for value in range(1,11)]"
   ],
   "metadata": {
    "collapsed": false,
    "ExecuteTime": {
     "end_time": "2024-01-25T11:39:33.737079Z",
     "start_time": "2024-01-25T11:39:33.723251Z"
    }
   },
   "id": "f7080cde8ea3f8ae"
  },
  {
   "cell_type": "code",
   "execution_count": null,
   "outputs": [],
   "source": [],
   "metadata": {
    "collapsed": false
   },
   "id": "ff80439fdeb74eaf"
  }
 ],
 "metadata": {
  "kernelspec": {
   "display_name": "Python 3",
   "language": "python",
   "name": "python3"
  },
  "language_info": {
   "codemirror_mode": {
    "name": "ipython",
    "version": 2
   },
   "file_extension": ".py",
   "mimetype": "text/x-python",
   "name": "python",
   "nbconvert_exporter": "python",
   "pygments_lexer": "ipython2",
   "version": "2.7.6"
  }
 },
 "nbformat": 4,
 "nbformat_minor": 5
}
