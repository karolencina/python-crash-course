{
 "cells": [
  {
   "cell_type": "raw",
   "source": [
    "4.1 Pizzas: Think of at least three kinds of your favorite pizza. Store these pizza names in a list, and then use a for loop to print the name of each pizza."
   ],
   "metadata": {
    "collapsed": false
   },
   "id": "347e8116c441d73c"
  },
  {
   "cell_type": "code",
   "execution_count": 1,
   "outputs": [
    {
     "name": "stdout",
     "output_type": "stream",
     "text": [
      "margherita\n",
      "quattro formaggi\n",
      "calzone\n"
     ]
    }
   ],
   "source": [
    "pizzas = ['margherita', 'quattro formaggi', 'calzone']\n",
    "for pizza in pizzas:\n",
    "    print(pizza)"
   ],
   "metadata": {
    "collapsed": false
   },
   "id": "1012687f14271cb7"
  },
  {
   "cell_type": "markdown",
   "source": [
    "Modify your for loop to print a sentence using the name of the pizza instead of printing just the name of the pizza. For each pizza you should have one line of output containing a simple statement like I like pepperoni pizza."
   ],
   "metadata": {
    "collapsed": false
   },
   "id": "5cb28da3be1aded1"
  },
  {
   "cell_type": "code",
   "execution_count": 2,
   "outputs": [
    {
     "name": "stdout",
     "output_type": "stream",
     "text": [
      "I like pizza margherita.\n",
      "I like pizza quattro formaggi.\n",
      "I like pizza calzone.\n"
     ]
    }
   ],
   "source": [
    "for pizza in pizzas:\n",
    "    print(f'I like pizza {pizza}.')"
   ],
   "metadata": {
    "collapsed": false,
    "ExecuteTime": {
     "end_time": "2024-01-23T15:45:21.544390Z",
     "start_time": "2024-01-23T15:45:21.540521Z"
    }
   },
   "id": "fea7b2303dea3da4"
  },
  {
   "cell_type": "markdown",
   "source": [
    "Add a line at the end of your program, outside the for loop, that states how much you like pizza. The output should consist of three or more lines about the kinds of pizza you like and then an additional sentence, such as I really love pizza!"
   ],
   "metadata": {
    "collapsed": false
   },
   "id": "bb0156870c49679c"
  },
  {
   "cell_type": "code",
   "execution_count": 3,
   "outputs": [
    {
     "name": "stdout",
     "output_type": "stream",
     "text": [
      "I like pizza margherita.\n",
      "I like pizza quattro formaggi.\n",
      "I like pizza calzone.\n",
      "I really love pizza!\n"
     ]
    }
   ],
   "source": [
    "for pizza in pizzas:\n",
    "    print(f'I like pizza {pizza}.')\n",
    "print('I really love pizza!')"
   ],
   "metadata": {
    "collapsed": false,
    "ExecuteTime": {
     "end_time": "2024-01-23T15:46:08.089201Z",
     "start_time": "2024-01-23T15:46:08.087653Z"
    }
   },
   "id": "75ae59574018fca7"
  },
  {
   "cell_type": "markdown",
   "source": [
    "4.2 Animals: Think of at least three different animals that have a common characteristic. Store the names of these animals in a list, and then use a for loop to print out the name of each animal."
   ],
   "metadata": {
    "collapsed": false
   },
   "id": "cefdfbc5f009746d"
  },
  {
   "cell_type": "code",
   "execution_count": 4,
   "outputs": [
    {
     "name": "stdout",
     "output_type": "stream",
     "text": [
      "cat\n",
      "dog\n",
      "chinchilla\n"
     ]
    }
   ],
   "source": [
    "animals = ['cat', 'dog', 'chinchilla']\n",
    "\n",
    "for animal in animals:\n",
    "    print(animal)"
   ],
   "metadata": {
    "collapsed": false,
    "ExecuteTime": {
     "end_time": "2024-01-23T15:47:24.198058Z",
     "start_time": "2024-01-23T15:47:24.193255Z"
    }
   },
   "id": "6316e73b7bf44c4b"
  },
  {
   "cell_type": "markdown",
   "source": [
    "Modify your program to print a statement about each animal, such as A dog would make a great pet."
   ],
   "metadata": {
    "collapsed": false
   },
   "id": "e6eafeaa308f3145"
  },
  {
   "cell_type": "code",
   "execution_count": 5,
   "outputs": [
    {
     "name": "stdout",
     "output_type": "stream",
     "text": [
      "A cat would make a great pet.\n",
      "A dog would make a great pet.\n",
      "A chinchilla would make a great pet.\n"
     ]
    }
   ],
   "source": [
    "for animal in animals:\n",
    "    print(f'A {animal} would make a great pet.')"
   ],
   "metadata": {
    "collapsed": false,
    "ExecuteTime": {
     "end_time": "2024-01-23T15:48:05.583642Z",
     "start_time": "2024-01-23T15:48:05.578246Z"
    }
   },
   "id": "e9de778a12467fdc"
  },
  {
   "cell_type": "markdown",
   "source": [
    "Add a line at the end of your program stating what these animals have in common. You could print a sentence such as Any of these animals would make a great pet!"
   ],
   "metadata": {
    "collapsed": false
   },
   "id": "f4f00c6cae4884fc"
  },
  {
   "cell_type": "code",
   "execution_count": 6,
   "outputs": [
    {
     "name": "stdout",
     "output_type": "stream",
     "text": [
      "A cat would make a great pet.\n",
      "A dog would make a great pet.\n",
      "A chinchilla would make a great pet.\n",
      "Any of these animals would make a great pet (althought cats are my fav)!\n"
     ]
    }
   ],
   "source": [
    "for animal in animals:\n",
    "    print(f'A {animal} would make a great pet.')\n",
    "    \n",
    "print('Any of these animals would make a great pet (althought cats are my fav)!')"
   ],
   "metadata": {
    "collapsed": false,
    "ExecuteTime": {
     "end_time": "2024-01-23T15:49:16.921935Z",
     "start_time": "2024-01-23T15:49:16.911599Z"
    }
   },
   "id": "1f93c316c421094a"
  },
  {
   "cell_type": "code",
   "execution_count": 6,
   "outputs": [],
   "source": [],
   "metadata": {
    "collapsed": false,
    "ExecuteTime": {
     "end_time": "2024-01-23T15:49:16.988218Z",
     "start_time": "2024-01-23T15:49:16.981969Z"
    }
   },
   "id": "8a81808026ab1355"
  },
  {
   "cell_type": "code",
   "execution_count": null,
   "outputs": [],
   "source": [],
   "metadata": {
    "collapsed": false
   },
   "id": "b864b79f5a8891a5"
  }
 ],
 "metadata": {
  "kernelspec": {
   "display_name": "Python 3",
   "language": "python",
   "name": "python3"
  },
  "language_info": {
   "codemirror_mode": {
    "name": "ipython",
    "version": 2
   },
   "file_extension": ".py",
   "mimetype": "text/x-python",
   "name": "python",
   "nbconvert_exporter": "python",
   "pygments_lexer": "ipython2",
   "version": "2.7.6"
  }
 },
 "nbformat": 4,
 "nbformat_minor": 5
}
