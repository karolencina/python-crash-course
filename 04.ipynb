{
 "cells": [
  {
   "cell_type": "raw",
   "source": [
    "4.1 Pizzas: Think of at least three kinds of your favorite pizza. Store these pizza names in a list, and then use a for loop to print the name of each pizza."
   ],
   "metadata": {
    "collapsed": false
   },
   "id": "347e8116c441d73c"
  },
  {
   "cell_type": "code",
   "execution_count": null,
   "outputs": [],
   "source": [
    "pizzas = ['margherita', 'quattro formaggi', 'calzone']\n",
    "for pizza in pizzas:\n",
    "    print(pizza)"
   ],
   "metadata": {
    "collapsed": false
   },
   "id": "1012687f14271cb7"
  },
  {
   "cell_type": "markdown",
   "source": [
    "Modify your for loop to print a sentence using the name of the pizza instead of printing just the name of the pizza. For each pizza you should have one line of output containing a simple statement like I like pepperoni pizza."
   ],
   "metadata": {
    "collapsed": false
   },
   "id": "5cb28da3be1aded1"
  },
  {
   "cell_type": "code",
   "execution_count": null,
   "outputs": [],
   "source": [
    "for pizza in pizzas:\n",
    "    print(f'I like pizza {pizza}.')"
   ],
   "metadata": {
    "collapsed": false
   },
   "id": "fea7b2303dea3da4"
  },
  {
   "cell_type": "markdown",
   "source": [
    "Add a line at the end of your program, outside the for loop, that states how much you like pizza. The output should consist of three or more lines about the kinds of pizza you like and then an additional sentence, such as I really love pizza!"
   ],
   "metadata": {
    "collapsed": false
   },
   "id": "bb0156870c49679c"
  },
  {
   "cell_type": "code",
   "execution_count": null,
   "outputs": [],
   "source": [
    "for pizza in pizzas:\n",
    "    print(f'I like pizza {pizza}.')\n",
    "print('I really love pizza!')"
   ],
   "metadata": {
    "collapsed": false
   },
   "id": "75ae59574018fca7"
  },
  {
   "cell_type": "markdown",
   "source": [
    "4.2 Animals: Think of at least three different animals that have a common characteristic. Store the names of these animals in a list, and then use a for loop to print out the name of each animal."
   ],
   "metadata": {
    "collapsed": false
   },
   "id": "cefdfbc5f009746d"
  },
  {
   "cell_type": "code",
   "execution_count": null,
   "outputs": [],
   "source": [
    "animals = ['cat', 'dog', 'chinchilla']\n",
    "\n",
    "for animal in animals:\n",
    "    print(animal)"
   ],
   "metadata": {
    "collapsed": false
   },
   "id": "6316e73b7bf44c4b"
  },
  {
   "cell_type": "markdown",
   "source": [
    "Modify your program to print a statement about each animal, such as A dog would make a great pet."
   ],
   "metadata": {
    "collapsed": false
   },
   "id": "e6eafeaa308f3145"
  },
  {
   "cell_type": "code",
   "execution_count": null,
   "outputs": [],
   "source": [
    "for animal in animals:\n",
    "    print(f'A {animal} would make a great pet.')"
   ],
   "metadata": {
    "collapsed": false
   },
   "id": "e9de778a12467fdc"
  },
  {
   "cell_type": "markdown",
   "source": [
    "Add a line at the end of your program stating what these animals have in common. You could print a sentence such as Any of these animals would make a great pet!"
   ],
   "metadata": {
    "collapsed": false
   },
   "id": "f4f00c6cae4884fc"
  },
  {
   "cell_type": "code",
   "execution_count": null,
   "outputs": [],
   "source": [
    "for animal in animals:\n",
    "    print(f'A {animal} would make a great pet.')\n",
    "    \n",
    "print('Any of these animals would make a great pet (althought cats are my fav)!')"
   ],
   "metadata": {
    "collapsed": false
   },
   "id": "1f93c316c421094a"
  },
  {
   "cell_type": "markdown",
   "source": [
    "4.3 Counting to Twenty: Use a for loop to print the numbers from 1 to 20, inclusive."
   ],
   "metadata": {
    "collapsed": false
   },
   "id": "fa7d5f6d074caf46"
  },
  {
   "cell_type": "code",
   "execution_count": null,
   "outputs": [],
   "source": [
    "for number in range(1,21):\n",
    "    print(number)"
   ],
   "metadata": {
    "collapsed": false
   },
   "id": "e3ecab613a78aad5"
  },
  {
   "cell_type": "markdown",
   "source": [
    "4.4 One Million: Make a list of the numbers from one to one million, and then use a for loop to print the numbers. (If the output is taking too long, stop it by pressing ctrl-C or by closing the output window.)"
   ],
   "metadata": {
    "collapsed": false
   },
   "id": "f501c1b3a9c763e3"
  },
  {
   "cell_type": "code",
   "execution_count": null,
   "outputs": [],
   "source": [
    "a_million = [number for number in range(1,900000)]\n",
    "    \n",
    "for item in a_million:\n",
    "    print(item)"
   ],
   "metadata": {
    "collapsed": false
   },
   "id": "814f41b298db3384"
  },
  {
   "cell_type": "markdown",
   "source": [
    "4.5 Summing a Million: Make a list of the numbers from one to one million, and then use min() and max() to make sure your list actually starts at one and ends at one million. Also, use the sum() function to see how quickly Python can add a million numbers."
   ],
   "metadata": {
    "collapsed": false
   },
   "id": "870effec1118e848"
  },
  {
   "cell_type": "code",
   "execution_count": null,
   "outputs": [],
   "source": [
    "a_million = [number for number in range(1, 1000001)]\n",
    "\n",
    "print(min(a_million))\n",
    "print(max(a_million))\n",
    "print(sum(a_million))"
   ],
   "metadata": {
    "collapsed": false
   },
   "id": "b94b42968034f71b"
  },
  {
   "cell_type": "markdown",
   "source": [
    "4.6 Odd Numbers: Use the third argument of the range() function to make a list of the odd numbers from 1 to 20. Use a for loop to print each number."
   ],
   "metadata": {
    "collapsed": false
   },
   "id": "3f5e2423cb5b083"
  },
  {
   "cell_type": "code",
   "execution_count": null,
   "outputs": [],
   "source": [
    "odd_numbers = [number for number in range(1,21,2)]\n",
    "\n",
    "for item in odd_numbers:\n",
    "    print(item)"
   ],
   "metadata": {
    "collapsed": false
   },
   "id": "c8f0e836df8f2899"
  },
  {
   "cell_type": "markdown",
   "source": [
    "4.7 Threes: Make a list of the multiples of 3 from 3 to 30. Use a for loop to print the numbers in your list."
   ],
   "metadata": {
    "collapsed": false
   },
   "id": "b327d979d382ad4c"
  },
  {
   "cell_type": "code",
   "execution_count": null,
   "outputs": [],
   "source": [
    "multiples_of_3 = [number for number in range(3, 31, 3)]\n",
    "\n",
    "for item in multiples_of_3:\n",
    "    print(item)"
   ],
   "metadata": {
    "collapsed": false
   },
   "id": "14ee8b22d4a151a7"
  },
  {
   "cell_type": "markdown",
   "source": [
    "4.8 Cubes: A number raised to the third power is called a cube. For example, the cube of 2 is written as 2**3 in Python. Make a list of the first 10 cubes (that is, the cube of each integer from 1 through 10), and use a for loop to print out the value of each cube."
   ],
   "metadata": {
    "collapsed": false
   },
   "id": "239d20b94f86a81c"
  },
  {
   "cell_type": "code",
   "execution_count": null,
   "outputs": [],
   "source": [
    "cubes = [value**3 for value in range(1,11)]\n",
    "\n",
    "for item in cubes:\n",
    "    print(item)"
   ],
   "metadata": {
    "collapsed": false
   },
   "id": "49bb2516d3f6d36a"
  },
  {
   "cell_type": "markdown",
   "source": [
    "4.9 Cube Comprehension: Use a list comprehension to generate a list of the first 10 cubes."
   ],
   "metadata": {
    "collapsed": false
   },
   "id": "d879e038359c44ee"
  },
  {
   "cell_type": "code",
   "execution_count": null,
   "outputs": [],
   "source": [
    "cubes = [value**3 for value in range(1,11)]"
   ],
   "metadata": {
    "collapsed": false
   },
   "id": "f7080cde8ea3f8ae"
  },
  {
   "cell_type": "markdown",
   "source": [
    "4.10 Slices: Using one of the programs you wrote in this chapter, add several lines to the end of the program that do the following:\n",
    "- Print the message, The first three items in the list are:. Then use a slice to print the first three items from that program’s list.\n",
    "- Print the message, Three items from the middle of the list are:. Use a slice to print three items from the middle of the list.\n",
    "- Print the message, The last three items in the list are:. Use a slice to print the last three items in the list."
   ],
   "metadata": {
    "collapsed": false
   },
   "id": "de13cc31a8f88dd0"
  },
  {
   "cell_type": "code",
   "execution_count": null,
   "outputs": [],
   "source": [
    "import math\n",
    "\n",
    "cubes = [value ** 3 for value in range(1, 11)]\n",
    "\n",
    "print(f\"The first three items in the list are {cubes[:3]}.\")\n",
    "\n",
    "def find_middle(list):\n",
    "    middle_index = math.floor(len(list)/2)\n",
    "    \n",
    "    if len(list) % 2 != 0:\n",
    "        print(f\"Length: {len(list)}, middle={middle_index}\")\n",
    "        three_middle = list[middle_index-1:middle_index+2]\n",
    "        return three_middle\n",
    "    else:\n",
    "        print(f\"Length: {len(list)}, middle={middle_index}\")\n",
    "        middle_index = middle_index - 1\n",
    "        four_middle = list[middle_index-1:middle_index+3]\n",
    "        return four_middle\n",
    "\n",
    "print(find_middle(cubes))\n",
    "\n",
    "print(f\"The last three items in the list are {cubes[-3:]}\")"
   ],
   "metadata": {
    "collapsed": false
   },
   "id": "ff80439fdeb74eaf"
  },
  {
   "cell_type": "markdown",
   "source": [
    "4.11 My Pizzas, Your Pizzas: Start with your program from Exercise 4.1 (page 60). Make a copy of the list of pizzas, and call it friend_pizzas. Then, do the following:\n",
    "- Add a new pizza to the original list.\n",
    "- Add a different pizza to the list friend_pizzas.\n",
    "- Prove that you have two separate lists. Print the message, My favorite pizzas are:, and then use a for loop to print the first list. Print the message, My friend’s favorite pizzas are:, and then use a for loop to print the second list. Make sure each new pizza is stored in the appropriate list."
   ],
   "metadata": {
    "collapsed": false
   },
   "id": "f7069f09dcc68478"
  },
  {
   "cell_type": "code",
   "execution_count": null,
   "outputs": [],
   "source": [
    "katsu_pizzas = pizzas[:]\n",
    "katsu_pizzas.append('pepperoni')\n",
    "\n",
    "print(f\"My fav pizzas are: {pizzas} and Katsu\\'s fav pizzas are {katsu_pizzas}\")"
   ],
   "metadata": {
    "collapsed": false
   },
   "id": "62a844e0ca1c4835"
  },
  {
   "cell_type": "markdown",
   "source": [
    "4.12 More Loops: All versions of foods.py in this section have avoided using for loops when printing to save space. Choose a version of foods.py, and write two for loops to print each list of foods."
   ],
   "metadata": {
    "collapsed": false
   },
   "id": "e4202b4ee0ff684d"
  },
  {
   "cell_type": "code",
   "execution_count": null,
   "outputs": [],
   "source": [
    "print(\"My pizzas:\")\n",
    "for pizza in pizzas:\n",
    "    print(f\"- {pizza}\")\n",
    "    \n",
    "print(\"\\nKatsu's pizzas:\")\n",
    "for pizza in katsu_pizzas:\n",
    "    print(f\"- {pizza}\")"
   ],
   "metadata": {
    "collapsed": false
   },
   "id": "bd2e04f6d356ddf"
  }
 ],
 "metadata": {
  "kernelspec": {
   "display_name": "Python 3",
   "language": "python",
   "name": "python3"
  },
  "language_info": {
   "codemirror_mode": {
    "name": "ipython",
    "version": 2
   },
   "file_extension": ".py",
   "mimetype": "text/x-python",
   "name": "python",
   "nbconvert_exporter": "python",
   "pygments_lexer": "ipython2",
   "version": "2.7.6"
  }
 },
 "nbformat": 4,
 "nbformat_minor": 5
}
