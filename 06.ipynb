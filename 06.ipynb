{
 "cells": [
  {
   "metadata": {},
   "cell_type": "markdown",
   "source": "6.1. Person: Use a dictionary to store information about a person you know. Store their first name, last name, age, and the city in which they live. You should have keys such as `first_name`, `last_name`, `age`, and `city`. Print each piece of information stored in your dictionary.",
   "id": "246051c47b6d51de"
  },
  {
   "cell_type": "code",
   "id": "initial_id",
   "metadata": {
    "collapsed": true
   },
   "source": [
    "katsu = {\n",
    "    'first_name': 'Katy',\n",
    "    'last_name': 'Lukacova',\n",
    "    'age': 18\n",
    "}\n",
    "\n",
    "print(katsu['age'])"
   ],
   "outputs": [],
   "execution_count": null
  },
  {
   "metadata": {},
   "cell_type": "markdown",
   "source": "6.2. Favorite Numbers: Use a dictionary to store people’s favorite numbers. Think of five names, and use them as keys in your dictionary. Think of a favorite number for each person, and store each as a value in your dictionary. Print each person’s name and their favorite number.",
   "id": "8ad2e5c37dc11167"
  },
  {
   "metadata": {},
   "cell_type": "code",
   "source": [
    "fav_nums = {\n",
    "    'mathi': 5,\n",
    "    'karo': 2,\n",
    "    'barbori': 8,\n",
    "    'eva': 7,\n",
    "    'daniel': 1\n",
    "}\n",
    "\n",
    "for person in fav_nums:\n",
    "    print(f\"{person.capitalize()}'s favourite number is {fav_nums[person]}.\")"
   ],
   "id": "745f94a68692810d",
   "outputs": [],
   "execution_count": null
  },
  {
   "metadata": {},
   "cell_type": "markdown",
   "source": [
    "6.3. Glossary: A Python dictionary can be used to model an actual dictionary. However, to avoid confusion, let’s call it a glossary. \n",
    "- Think of five programming words you’ve learned about in the previous chapters. Use these words as the keys in your glossary, and store their meanings as values. \n",
    "- Print each word and its meaning as neatly formatted output. You might print the word followed by a colon and then its meaning, or print the word on one line and then print its meaning indented on a second line. Use the newline character (`\\n`) to insert a blank line between each word-meaning pair in your output."
   ],
   "id": "720898c9ae9014b7"
  },
  {
   "metadata": {},
   "cell_type": "code",
   "source": [
    "glossary = {\n",
    "    'instantiate': 'create a class instance (for example `app = FastAPI()`)',\n",
    "    'delegate': 'used in connection with API requests (delegate an incoming GET request)',\n",
    "    'language-agnostic': 'where no particular language is promoted',\n",
    "    'instrumentation': 'the ability to monitor and measure performance, detect errors, and get trace information that represents the app\\'s state'\n",
    "}\n",
    "\n",
    "for word in glossary:\n",
    "    print(f\"**{word}** - {glossary[word]}\")"
   ],
   "id": "6adac92505bc8654",
   "outputs": [],
   "execution_count": null
  },
  {
   "metadata": {},
   "cell_type": "markdown",
   "source": [
    "6.5 Rivers: Make a dictionary containing three major rivers and the country each river runs through. One key-value pair might be `'nile': 'egypt'`.\n",
    "- Use a loop to print a sentence about each river, such as The Nile runs through Egypt.\n",
    "- Use a loop to print the name of each river included in the dictionary.\n",
    "- Use a loop to print the name of each country included in the dictionary."
   ],
   "id": "80af2e7d046bb729"
  },
  {
   "metadata": {},
   "cell_type": "code",
   "source": [
    "rivers = {\n",
    "    'nile': 'egypt',\n",
    "    'danube': 'slovakia',\n",
    "    'orinoco': 'venezuela'\n",
    "} \n",
    "\n",
    "for river, country in rivers.items():\n",
    "    print(f\"The {river.capitalize()} river runs through {country.capitalize()}.\")"
   ],
   "id": "6ce9bdd4caa5b3c3",
   "outputs": [],
   "execution_count": null
  },
  {
   "metadata": {},
   "cell_type": "markdown",
   "source": [
    "6.6. Polling: Use the code in `favorite_languages.py` (page 97).\n",
    "- Make a list of people who should take the favorite languages poll. Include some names that are already in the dictionary and some that are not.\n",
    "- Loop through the list of people who should take the poll. If they have already taken the poll, print a message thanking them for responding. If they have not yet taken the poll, print a message inviting them to take the poll."
   ],
   "id": "65cf82fd085aeaf3"
  },
  {
   "metadata": {},
   "cell_type": "code",
   "source": [
    "favourite_languages = {\n",
    "    'jen': 'python',\n",
    "    'sarah': 'c',\n",
    "    'edward': 'rust',\n",
    "    'phil': 'python'\n",
    "}\n",
    "\n",
    "should_take_poll = ['peter', 'chloe', 'dante', 'sarah', 'jen']\n",
    "\n",
    "for person in should_take_poll:\n",
    "    if person not in favourite_languages:\n",
    "        print(f\"{person.capitalize()}, please take the poll.\")\n",
    "    else:\n",
    "        print(f\"{person.capitalize()}, thank you for taking the poll.\")"
   ],
   "id": "d62d34f05542fab",
   "outputs": [],
   "execution_count": null
  },
  {
   "metadata": {},
   "cell_type": "markdown",
   "source": "6.7. People: Start with the program you wrote for Exercise 6.1 (page 102). Make two new dictionaries representing different people, and store all three dictionaries in a list called `people`. Loop through your list of people. As you loop through the list, print everything you know about each person.",
   "id": "f4cf818047401f34"
  },
  {
   "metadata": {},
   "cell_type": "code",
   "source": [
    "kattha = {\n",
    "    'first_name': 'katy',\n",
    "    'last_name': 'lukacova',\n",
    "    'age': 18\n",
    "}\n",
    "\n",
    "theridex = {\n",
    "    'first_name': 'mathias',\n",
    "    'last_name': 'lencina',\n",
    "    'age': 26\n",
    "}\n",
    "\n",
    "bazuzalu = {\n",
    "    'first_name': 'zuzana',\n",
    "    'last_name': 'lukacova',\n",
    "    'age': 45\n",
    "}\n",
    "\n",
    "people = [kattha, theridex, bazuzalu]\n",
    "\n",
    "user_count = 0\n",
    "for person in people:\n",
    "    user_count += 1\n",
    "    print(f\"user{user_count}:\")\n",
    "    for k, v in person.items():\n",
    "        k = k.title()\n",
    "        if not isinstance(v, int):\n",
    "            v.title()\n",
    "        print(f\"\\t{k}: {v}\")\n",
    "        "
   ],
   "id": "4830cf382ea60400",
   "outputs": [],
   "execution_count": null
  },
  {
   "metadata": {},
   "cell_type": "markdown",
   "source": "6.8. Pets: Make several dictionaries, where the name of each dictionary is the name of a pet. In each dictionary, include the kind of animal and the owner’s name. Store these dictionaries in a list called `pets`. Next, loop through your list and as you do, print everything you know about each pet.",
   "id": "3258752cb609d1f"
  },
  {
   "metadata": {},
   "cell_type": "code",
   "source": [
    "pet1 = {\n",
    "    'name': 'kahlo',\n",
    "    'dob': '2021/09/02',\n",
    "    'type': 'cat',\n",
    "    'nationality': 'romanian',\n",
    "    'color': ['black', 'white']\n",
    "}\n",
    "\n",
    "pet2 = {\n",
    "    'name': 'dali',\n",
    "    'dob': '2021/09/02',\n",
    "    'type': 'cat',\n",
    "    'nationality': 'romanian',\n",
    "    'color': ['black', 'white']\n",
    "}\n",
    "\n",
    "pets = [pet1, pet2]\n",
    "\n",
    "for pet in pets:\n",
    "    print(f\"{pet['name'].title()}:\")\n",
    "    for key, value in pet.items():\n",
    "        if not key=='name' and not isinstance(value, list):\n",
    "            if key=='dob':\n",
    "                print(f\"\\t{key.upper()}: {value.title()}\")\n",
    "            else:\n",
    "                print(f\"\\t{key.title()}: {value.title()}\")\n",
    "    print(f\"\\tColors: \")\n",
    "    for color in pet['color']:\n",
    "        print(f\"\\t\\t- {color}\")\n",
    "            "
   ],
   "id": "4543992cac4ebf99",
   "outputs": [],
   "execution_count": null
  },
  {
   "metadata": {},
   "cell_type": "markdown",
   "source": "6.9. Favorite Places: Make a dictionary called `favorite_places`. Think of three names to use as keys in the dictionary, and store one to three favorite places for each person. Loop through the dictionary, and print each person’s name and their favorite places.",
   "id": "b00b45fde9118148"
  },
  {
   "metadata": {},
   "cell_type": "markdown",
   "source": "6.10. Favorite Numbers: Modify your program from Exercise 6.2 (page 102) so each person can have more than one favorite number. Then print each person’s name along with their favorite numbers.",
   "id": "ce1d9ac2fcbad6bd"
  },
  {
   "metadata": {},
   "cell_type": "code",
   "source": [
    "favorite_places = {\n",
    "    'karo': ['new zealand', 'brazil', 'japan'],\n",
    "    'mathi': ['norway', 'argentina'],\n",
    "    'zuzana': ['costa rica'],\n",
    "    'katy': ['iceland'],\n",
    "    'barbori': ['france', 'south korea'],\n",
    "    'peter': []\n",
    "}\n",
    "\n",
    "for person, places in favorite_places.items():\n",
    "    if len(places)==0:\n",
    "        places = ''\n",
    "        wording = \" has no favourite places\"\n",
    "    elif len(places)<=1:\n",
    "        places = places[0]\n",
    "        wording = \"'s favorite place is\"\n",
    "    else:\n",
    "        places = ', '.join(places)\n",
    "        wording = f\"'s favorite places are\"\n",
    "    print(f\"{person}{wording} {places}.\")"
   ],
   "id": "7095246f24b04d3e",
   "outputs": [],
   "execution_count": null
  },
  {
   "metadata": {},
   "cell_type": "code",
   "source": "",
   "id": "2d73b2ba4e790e77",
   "outputs": [],
   "execution_count": null
  },
  {
   "metadata": {},
   "cell_type": "markdown",
   "source": "6.11. Cities: Make a dictionary called `cities`. Use the names of three cities as keys in your dictionary. Create a dictionary of information about each city and include the country that the city is in, its approximate population, and one fact about that city. The keys for each city’s dictionary should be something like `country`, `population`, and `fact`. Print the name of each city and all of the information you have stored about it.",
   "id": "c1b08d173fe463c8"
  },
  {
   "metadata": {},
   "cell_type": "code",
   "source": "",
   "id": "bd58e1996da2c1f5",
   "outputs": [],
   "execution_count": null
  },
  {
   "metadata": {},
   "cell_type": "markdown",
   "source": "6.12. Extensions: We’re now working with examples that are complex enough that they can be extended in any number of ways. Use one of the example programs from this chapter, and extend it by adding new keys and values, changing the context of the program or improving the formatting of the output.",
   "id": "4142beab02fdeff5"
  },
  {
   "metadata": {},
   "cell_type": "code",
   "source": "",
   "id": "6026ba59471386f2",
   "outputs": [],
   "execution_count": null
  }
 ],
 "metadata": {
  "kernelspec": {
   "display_name": "Python 3",
   "language": "python",
   "name": "python3"
  },
  "language_info": {
   "codemirror_mode": {
    "name": "ipython",
    "version": 2
   },
   "file_extension": ".py",
   "mimetype": "text/x-python",
   "name": "python",
   "nbconvert_exporter": "python",
   "pygments_lexer": "ipython2",
   "version": "2.7.6"
  }
 },
 "nbformat": 4,
 "nbformat_minor": 5
}
