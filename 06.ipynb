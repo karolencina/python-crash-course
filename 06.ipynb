{
 "cells": [
  {
   "metadata": {},
   "cell_type": "markdown",
   "source": "6.1. Person: Use a dictionary to store information about a person you know. Store their first name, last name, age, and the city in which they live. You should have keys such as `first_name`, `last_name`, `age`, and `city`. Print each piece of information stored in your dictionary.",
   "id": "246051c47b6d51de"
  },
  {
   "cell_type": "code",
   "id": "initial_id",
   "metadata": {
    "collapsed": true
   },
   "source": [
    "katsu = {\n",
    "    'first_name': 'Katy',\n",
    "    'last_name': 'Lukacova',\n",
    "    'age': 18\n",
    "}\n",
    "\n",
    "print(katsu['age'])"
   ],
   "outputs": [],
   "execution_count": null
  },
  {
   "metadata": {},
   "cell_type": "markdown",
   "source": "6.2. Favorite Numbers: Use a dictionary to store people’s favorite numbers. Think of five names, and use them as keys in your dictionary. Think of a favorite number for each person, and store each as a value in your dictionary. Print each person’s name and their favorite number.",
   "id": "8ad2e5c37dc11167"
  },
  {
   "metadata": {},
   "cell_type": "code",
   "source": [
    "fav_nums = {\n",
    "    'mathi': 5,\n",
    "    'karo': 2,\n",
    "    'barbori': 8,\n",
    "    'eva': 7,\n",
    "    'daniel': 1\n",
    "}\n",
    "\n",
    "for person in fav_nums:\n",
    "    print(f\"{person.capitalize()}'s favourite number is {fav_nums[person]}.\")"
   ],
   "id": "745f94a68692810d",
   "outputs": [],
   "execution_count": null
  },
  {
   "metadata": {},
   "cell_type": "markdown",
   "source": [
    "6.3. Glossary: A Python dictionary can be used to model an actual dictionary. However, to avoid confusion, let’s call it a glossary. \n",
    "- Think of five programming words you’ve learned about in the previous chapters. Use these words as the keys in your glossary, and store their meanings as values. \n",
    "- Print each word and its meaning as neatly formatted output. You might print the word followed by a colon and then its meaning, or print the word on one line and then print its meaning indented on a second line. Use the newline character (`\\n`) to insert a blank line between each word-meaning pair in your output."
   ],
   "id": "720898c9ae9014b7"
  },
  {
   "metadata": {},
   "cell_type": "code",
   "source": [
    "glossary = {\n",
    "    'instantiate': 'create a class instance (for example `app = FastAPI()`)',\n",
    "    'delegate': 'used in connection with API requests (delegate an incoming GET request)',\n",
    "    'language-agnostic': 'where no particular language is promoted',\n",
    "    'instrumentation': 'the ability to monitor and measure performance, detect errors, and get trace information that represents the app\\'s state'\n",
    "}\n",
    "\n",
    "for word in glossary:\n",
    "    print(f\"**{word}** - {glossary[word]}\")"
   ],
   "id": "6adac92505bc8654",
   "outputs": [],
   "execution_count": null
  }
 ],
 "metadata": {
  "kernelspec": {
   "display_name": "Python 3",
   "language": "python",
   "name": "python3"
  },
  "language_info": {
   "codemirror_mode": {
    "name": "ipython",
    "version": 2
   },
   "file_extension": ".py",
   "mimetype": "text/x-python",
   "name": "python",
   "nbconvert_exporter": "python",
   "pygments_lexer": "ipython2",
   "version": "2.7.6"
  }
 },
 "nbformat": 4,
 "nbformat_minor": 5
}
